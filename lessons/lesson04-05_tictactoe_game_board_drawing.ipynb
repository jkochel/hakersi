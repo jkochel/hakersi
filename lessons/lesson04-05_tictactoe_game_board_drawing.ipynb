{
 "cells": [
  {
   "cell_type": "markdown",
   "id": "225f8c40-f0bf-46ca-af15-9258f861056c",
   "metadata": {},
   "source": [
    "# Hakersi - advanced python\n",
    "mentor: Joanna Kochel (kochel.joanna@gmail.com)\n",
    "\n",
    "## Lessons 4-5: Tic Tac Toe game and drawing a board\n",
    "\n",
    "Goal: Understanding how the game should work and implementing drawing the board"
   ]
  },
  {
   "cell_type": "markdown",
   "id": "5de415da-2ac3-43cb-9c26-60d7fdfa27b4",
   "metadata": {},
   "source": [
    "### Introduction to the game\n",
    "\n",
    "We will be coding a simple game: Tic Tac Toe.\n",
    "\n",
    "What is expected in the end:\n",
    "1. A simple interface with the following input:\n",
    "    - size of the game board with 3x3 by default\n",
    "    - deciding who plays first (x or o)\n",
    "    - how many games should be played\n",
    "2. An option to get input from the user on where to put a sign\n",
    "3. A \"running\" game as long as there is no winner or no more option for anyone to win\n",
    "4. \\<optional\\> A \"single player\" mode"
   ]
  },
  {
   "cell_type": "markdown",
   "id": "7450de6a-e423-432e-8610-09f0e062a145",
   "metadata": {},
   "source": [
    "### Drawing a board\n",
    "We want to be able to have a simple interface that draws a board as follows:\n",
    "\n",
    "![Image](img/board3x3.png)\n",
    "\n",
    "A first step is to have it just 3x3 and then we can make the size as a dynamic parameter."
   ]
  },
  {
   "cell_type": "markdown",
   "id": "0be40c49-b123-44b0-a3f1-82cd40947915",
   "metadata": {},
   "source": [
    "### Solutions (summary of the lesson)"
   ]
  },
  {
   "cell_type": "code",
   "execution_count": 5,
   "id": "649ee36c-ee61-485b-9d15-dbd3af4d08dd",
   "metadata": {
    "execution": {
     "iopub.execute_input": "2023-03-19T22:25:37.286779Z",
     "iopub.status.busy": "2023-03-19T22:25:37.285726Z",
     "iopub.status.idle": "2023-03-19T22:25:37.304643Z",
     "shell.execute_reply": "2023-03-19T22:25:37.303881Z",
     "shell.execute_reply.started": "2023-03-19T22:25:37.286713Z"
    },
    "tags": []
   },
   "outputs": [
    {
     "data": {
      "text/plain": [
       "' --- --- --- '"
      ]
     },
     "execution_count": 5,
     "metadata": {},
     "output_type": "execute_result"
    }
   ],
   "source": [
    "# option 1: easiest to read\n",
    "def print_horizontal_line(n):\n",
    "    s = \"\"\n",
    "    for i in range(n):\n",
    "        s += \" ---\"\n",
    "    s += \" \"\n",
    "    return s\n",
    "\n",
    "# option 2: less code and still readible\n",
    "\n",
    "def print_horizontal_line_2(n):\n",
    "    s = \" \".join([\"---\" for i in range(n)])\n",
    "    return \" \" + s + \" \"\n",
    "\n",
    "# option 3: least code, but hard to read\n",
    "print_horizontal_line_3 = lambda n: print(f' {\" \".join([\"---\" for i in range(n)])} ')\n",
    " \n",
    "print_horizontal_line(3)"
   ]
  },
  {
   "cell_type": "code",
   "execution_count": 16,
   "id": "acdab1f5-191d-48a2-a774-c35330250151",
   "metadata": {
    "execution": {
     "iopub.execute_input": "2023-03-19T22:27:59.574719Z",
     "iopub.status.busy": "2023-03-19T22:27:59.573714Z",
     "iopub.status.idle": "2023-03-19T22:27:59.584200Z",
     "shell.execute_reply": "2023-03-19T22:27:59.583037Z",
     "shell.execute_reply.started": "2023-03-19T22:27:59.574666Z"
    },
    "tags": []
   },
   "outputs": [],
   "source": [
    "def print_horizontal_line(n):\n",
    "    s = \"\"\n",
    "    for i in range(n):\n",
    "        s += \" ---\"\n",
    "    s += \" \"\n",
    "    print(s)\n",
    "\n",
    "def print_vertical_line(n):\n",
    "    s = \"|\"\n",
    "    for i in range(n):\n",
    "        s += \"   |\"\n",
    "    print(s)"
   ]
  },
  {
   "cell_type": "code",
   "execution_count": 20,
   "id": "40b73138-d529-4bd1-8985-8b9980d5fee3",
   "metadata": {
    "execution": {
     "iopub.execute_input": "2023-03-19T22:29:06.325588Z",
     "iopub.status.busy": "2023-03-19T22:29:06.324446Z",
     "iopub.status.idle": "2023-03-19T22:29:06.341098Z",
     "shell.execute_reply": "2023-03-19T22:29:06.339902Z",
     "shell.execute_reply.started": "2023-03-19T22:29:06.325465Z"
    },
    "tags": []
   },
   "outputs": [
    {
     "name": "stdout",
     "output_type": "stream",
     "text": [
      " --- --- --- \n",
      "|   |   |   |\n",
      " --- --- --- \n",
      "|   |   |   |\n",
      " --- --- --- \n",
      "|   |   |   |\n",
      " --- --- --- \n"
     ]
    }
   ],
   "source": [
    "def print_board(n):\n",
    "    for i in range(n):\n",
    "        print_horizontal_line(n)\n",
    "        print_vertical_line(n)\n",
    "    print_horizontal_line(n)\n",
    "print_board(3)"
   ]
  },
  {
   "cell_type": "code",
   "execution_count": 21,
   "id": "6f6e4bf4-26a4-4255-951b-c262045ac6c4",
   "metadata": {
    "execution": {
     "iopub.execute_input": "2023-03-19T22:29:09.641428Z",
     "iopub.status.busy": "2023-03-19T22:29:09.640396Z",
     "iopub.status.idle": "2023-03-19T22:29:09.653420Z",
     "shell.execute_reply": "2023-03-19T22:29:09.652020Z",
     "shell.execute_reply.started": "2023-03-19T22:29:09.641367Z"
    }
   },
   "outputs": [
    {
     "name": "stdout",
     "output_type": "stream",
     "text": [
      " --- --- --- --- --- \n",
      "|   |   |   |   |   |\n",
      " --- --- --- --- --- \n",
      "|   |   |   |   |   |\n",
      " --- --- --- --- --- \n",
      "|   |   |   |   |   |\n",
      " --- --- --- --- --- \n",
      "|   |   |   |   |   |\n",
      " --- --- --- --- --- \n",
      "|   |   |   |   |   |\n",
      " --- --- --- --- --- \n"
     ]
    }
   ],
   "source": [
    "print_board(5)"
   ]
  },
  {
   "cell_type": "code",
   "execution_count": 22,
   "id": "7677a8ed-1396-4fad-a357-03999eee9102",
   "metadata": {
    "execution": {
     "iopub.execute_input": "2023-03-19T22:29:11.293307Z",
     "iopub.status.busy": "2023-03-19T22:29:11.292339Z",
     "iopub.status.idle": "2023-03-19T22:29:11.304663Z",
     "shell.execute_reply": "2023-03-19T22:29:11.303883Z",
     "shell.execute_reply.started": "2023-03-19T22:29:11.293259Z"
    }
   },
   "outputs": [
    {
     "name": "stdout",
     "output_type": "stream",
     "text": [
      " --- --- --- --- --- --- --- --- --- --- \n",
      "|   |   |   |   |   |   |   |   |   |   |\n",
      " --- --- --- --- --- --- --- --- --- --- \n",
      "|   |   |   |   |   |   |   |   |   |   |\n",
      " --- --- --- --- --- --- --- --- --- --- \n",
      "|   |   |   |   |   |   |   |   |   |   |\n",
      " --- --- --- --- --- --- --- --- --- --- \n",
      "|   |   |   |   |   |   |   |   |   |   |\n",
      " --- --- --- --- --- --- --- --- --- --- \n",
      "|   |   |   |   |   |   |   |   |   |   |\n",
      " --- --- --- --- --- --- --- --- --- --- \n",
      "|   |   |   |   |   |   |   |   |   |   |\n",
      " --- --- --- --- --- --- --- --- --- --- \n",
      "|   |   |   |   |   |   |   |   |   |   |\n",
      " --- --- --- --- --- --- --- --- --- --- \n",
      "|   |   |   |   |   |   |   |   |   |   |\n",
      " --- --- --- --- --- --- --- --- --- --- \n",
      "|   |   |   |   |   |   |   |   |   |   |\n",
      " --- --- --- --- --- --- --- --- --- --- \n",
      "|   |   |   |   |   |   |   |   |   |   |\n",
      " --- --- --- --- --- --- --- --- --- --- \n"
     ]
    }
   ],
   "source": [
    "print_board(10)"
   ]
  }
 ],
 "metadata": {
  "kernelspec": {
   "display_name": "general",
   "language": "python",
   "name": "general"
  },
  "language_info": {
   "codemirror_mode": {
    "name": "ipython",
    "version": 3
   },
   "file_extension": ".py",
   "mimetype": "text/x-python",
   "name": "python",
   "nbconvert_exporter": "python",
   "pygments_lexer": "ipython3",
   "version": "3.9.9"
  }
 },
 "nbformat": 4,
 "nbformat_minor": 5
}
