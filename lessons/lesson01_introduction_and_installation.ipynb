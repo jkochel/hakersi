{
 "cells": [
  {
   "cell_type": "markdown",
   "id": "0efadcab-ace9-4513-8ad3-f86e372ef722",
   "metadata": {
    "slideshow": {
     "slide_type": "slide"
    },
    "tags": []
   },
   "source": [
    "# Hakersi - advanced python\n",
    "mentor: Joanna Kochel (kochel.joanna@gmail.com)\n",
    "\n",
    "## Lesson 1: Introduction and Installation\n",
    "\n",
    "Goal: Making sure everyone has the environment running and discuss the plan of the course."
   ]
  },
  {
   "cell_type": "markdown",
   "id": "ddd895d5-9143-471d-a3f8-20d680e3fc4a",
   "metadata": {
    "slideshow": {
     "slide_type": "slide"
    },
    "tags": []
   },
   "source": [
    "## Introduction"
   ]
  },
  {
   "cell_type": "markdown",
   "id": "deec11bf-80bd-4876-b3d6-0d7318cd3c71",
   "metadata": {
    "slideshow": {
     "slide_type": "fragment"
    },
    "tags": []
   },
   "source": [
    "**The idea of the course is that we focus on students that already**:\n",
    "1. Know basics of mathematics - operations as addiotion or muliplying are clear, also concepts as prime numbers or module are known or easy to understand.\n",
    "2. Know basics of English - the course will of course be in polish, but all the variable names and the code should be written in English.\n",
    "3. Know basics of programming - it doesn't have to be python, but some basics, like what a variable is or what's the difference between string and integer should be already clear."
   ]
  },
  {
   "cell_type": "markdown",
   "id": "d6827cd1-84d0-44f9-8166-fec05721274d",
   "metadata": {
    "slideshow": {
     "slide_type": "slide"
    },
    "tags": []
   },
   "source": [
    "**What will the course be about?**\n",
    "\n",
    "We will (briefly) go over basic syntax and concepts in python and then focus on concrete projects that we will be building together during classes and improving at home using the best practices. An example set of subjects (depending on a group):\n",
    "1. Variables, basic data types & loops\n",
    "2. Functions & basic packages\n",
    "4. Indroducing a first project: tic tac toe game\n",
    "5. Using knowledge from first lessons to implement building blocks for tic tac toe game: creating board with a dynamic size\n",
    "6. Using knowledge from first lessons to implement building blocks for tic tac toe game: deciding is there is a winner\n",
    "7. Using knowledge from first lessons to implement building blocks for tic tac toe game: allowing user input\n",
    "8. Introduction to Object Oriented Programming (OOP) and applying it to the tic tac toe game\n",
    "9. Continuing the make the tic tac toe game functional \n",
    "10. Introduction to git and moving the code to students' own branches\n",
    "11. Learning how to work together on the same code (MR reviews, merging)\n",
    "12. \\[optional\\] Creating a visual interface for the game\n",
    "13. \\[optional\\] Creating a bot to play with a perons\n",
    "\n",
    "\n",
    "The notebooks will be in English, as that's the primary programming language, but feel free to add comments in Polish to your local version."
   ]
  },
  {
   "cell_type": "markdown",
   "id": "f7e05a80-4c84-433c-8331-68ced9f29818",
   "metadata": {
    "slideshow": {
     "slide_type": "slide"
    },
    "tags": []
   },
   "source": [
    "## Installation\n",
    "\n",
    "To start, we will work in an interactive code editor: Jupyter lab. It allows you to run fragments of code (code cells) in notebooks and through that helps you better understand what is going on. "
   ]
  },
  {
   "cell_type": "markdown",
   "id": "7ef417a4-8575-4548-8f31-b53c5e4908cc",
   "metadata": {
    "slideshow": {
     "slide_type": "slide"
    },
    "tags": []
   },
   "source": [
    "### Windows"
   ]
  },
  {
   "cell_type": "markdown",
   "id": "6e27d525-806d-491a-a91f-1fa5de8ea43f",
   "metadata": {
    "slideshow": {
     "slide_type": "subslide"
    },
    "tags": []
   },
   "source": [
    "1. Open a web browser and go to the Python downloads page (https://www.python.org/downloads/windows/).\n",
    "2. Download the latest stable version of Python for Windows.\n",
    "3. Run the downloaded file and follow the installer instructions.\n",
    "4. Open the Command Prompt app and run the command `pip install jupyterlab` to install JupyterLab.\n",
    "5. Run `jupyter lab` in the Command Prompt app to start the IDE"
   ]
  },
  {
   "cell_type": "markdown",
   "id": "dee2f8f0-8408-46f2-ac27-030b538c7ded",
   "metadata": {
    "slideshow": {
     "slide_type": "slide"
    },
    "tags": []
   },
   "source": [
    "### Linux"
   ]
  },
  {
   "cell_type": "markdown",
   "id": "5c063137-2597-4fb5-8e27-2ae80702864c",
   "metadata": {
    "slideshow": {
     "slide_type": "subslide"
    },
    "tags": []
   },
   "source": [
    "Open the terminal and run the following commands:\n",
    "\n",
    "1. `sudo apt-get update` - This updates the package list on your system.\n",
    "2. `sudo apt-get install python3` - This installs Python 3 on your system.\n",
    "3. `python3 -m pip install --upgrade pip` -  This upgrades the pip package manager to the latest version.\n",
    "4. `pip install jupyterlab` -  This installs JupyterLab.\n",
    "5. `jupyter lab` - This starts the IDE"
   ]
  },
  {
   "cell_type": "markdown",
   "id": "c4994822-48a4-467a-9766-0b5c65db125b",
   "metadata": {
    "slideshow": {
     "slide_type": "slide"
    },
    "tags": []
   },
   "source": [
    "### macOS"
   ]
  },
  {
   "cell_type": "markdown",
   "id": "252a86a9-1b0c-43bf-b541-ec437aaae7a4",
   "metadata": {
    "slideshow": {
     "slide_type": "subslide"
    },
    "tags": []
   },
   "source": [
    "Open the Terminal app on your macOS and run the following commanads:\n",
    "\n",
    "1.  `/bin/bash -c \"$(curl -fsSL https://raw.githubusercontent.com/Homebrew/install/HEAD/install.sh)\"` - This installs Homebrew. Follow the prompts to complete the installation process.\n",
    "2. `brew install python@3` - This installs Python 3\n",
    "3. `pip3 install --upgrade pip` - This upgrades pip (Python package manager)\n",
    "4. `pip3 install jupyterlab` - This installs JupyterLab\n",
    "5. `jupyter lab` - This starts the IDE"
   ]
  },
  {
   "cell_type": "markdown",
   "id": "ba879603-aad8-4888-ae06-462f4ee2a9d1",
   "metadata": {},
   "source": [
    "### Important features of jupyter lab\n",
    "1. You can move cells around\n",
    "2. The execution order of the cells makes a difference\n",
    "3. Debugger - shows you what values variables have\n",
    "4. Use markdown - makes things super easy to structure\n",
    "5. By default, the end of the cell uses `__repr__` method, if you want to us the `__str__` one, use `print()`\n"
   ]
  }
 ],
 "metadata": {
  "kernelspec": {
   "display_name": "general",
   "language": "python",
   "name": "general"
  },
  "language_info": {
   "codemirror_mode": {
    "name": "ipython",
    "version": 3
   },
   "file_extension": ".py",
   "mimetype": "text/x-python",
   "name": "python",
   "nbconvert_exporter": "python",
   "pygments_lexer": "ipython3",
   "version": "3.9.9"
  },
  "toc-autonumbering": false,
  "toc-showcode": false,
  "toc-showmarkdowntxt": false
 },
 "nbformat": 4,
 "nbformat_minor": 5
}
