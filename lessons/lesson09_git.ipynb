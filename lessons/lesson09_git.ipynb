{
 "cells": [
  {
   "cell_type": "markdown",
   "id": "9d707394-c982-46b9-b65e-d52fadaa9f63",
   "metadata": {
    "execution": {
     "iopub.execute_input": "2023-03-19T23:12:40.542452Z",
     "iopub.status.busy": "2023-03-19T23:12:40.541395Z",
     "iopub.status.idle": "2023-03-19T23:12:40.560528Z",
     "shell.execute_reply": "2023-03-19T23:12:40.559274Z",
     "shell.execute_reply.started": "2023-03-19T23:12:40.542384Z"
    }
   },
   "source": [
    "# Hakersi - advanced python\n",
    "mentor: Joanna Kochel (kochel.joanna@gmail.com)\n",
    "\n",
    "## Lesson 9: Git\n",
    "\n",
    "Goal: Learning basics of git and getting a first branch cretaed\n",
    "\n",
    "If you don't see a presentation below, go to [this link](https://github.com/jkochel/hakersi2023_python/blob/main/lessons/img/git.pdfhttps://github.com/jkochel/hakersi2023_python/blob/main/lessons/img/git.pdf) !"
   ]
  },
  {
   "cell_type": "code",
   "execution_count": 3,
   "id": "ad44774a-83c5-4b46-be1b-aee670f19388",
   "metadata": {
    "execution": {
     "iopub.execute_input": "2023-03-19T23:14:55.614192Z",
     "iopub.status.busy": "2023-03-19T23:14:55.613787Z",
     "iopub.status.idle": "2023-03-19T23:14:55.625877Z",
     "shell.execute_reply": "2023-03-19T23:14:55.624705Z",
     "shell.execute_reply.started": "2023-03-19T23:14:55.614163Z"
    },
    "tags": []
   },
   "outputs": [
    {
     "data": {
      "text/html": [
       "\n",
       "        <iframe\n",
       "            width=\"1000\"\n",
       "            height=\"700\"\n",
       "            src=\"./img/git.pdf\"\n",
       "            frameborder=\"0\"\n",
       "            allowfullscreen\n",
       "            \n",
       "        ></iframe>\n",
       "        "
      ],
      "text/plain": [
       "<IPython.lib.display.IFrame at 0x103a29dc0>"
      ]
     },
     "execution_count": 3,
     "metadata": {},
     "output_type": "execute_result"
    }
   ],
   "source": [
    "from IPython.display import IFrame\n",
    "IFrame(\"./img/git.pdf\", width=1000, height=700)"
   ]
  }
 ],
 "metadata": {
  "kernelspec": {
   "display_name": "general",
   "language": "python",
   "name": "general"
  },
  "language_info": {
   "codemirror_mode": {
    "name": "ipython",
    "version": 3
   },
   "file_extension": ".py",
   "mimetype": "text/x-python",
   "name": "python",
   "nbconvert_exporter": "python",
   "pygments_lexer": "ipython3",
   "version": "3.9.9"
  }
 },
 "nbformat": 4,
 "nbformat_minor": 5
}
