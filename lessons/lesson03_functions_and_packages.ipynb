{
 "cells": [
  {
   "cell_type": "markdown",
   "id": "fa9369ec-27af-4528-9c27-9d7fb1ff98a4",
   "metadata": {
    "execution": {
     "iopub.execute_input": "2023-03-19T21:10:56.130801Z",
     "iopub.status.busy": "2023-03-19T21:10:56.129530Z",
     "iopub.status.idle": "2023-03-19T21:10:56.149127Z",
     "shell.execute_reply": "2023-03-19T21:10:56.147967Z",
     "shell.execute_reply.started": "2023-03-19T21:10:56.130676Z"
    }
   },
   "source": [
    "# Hakersi - advanced python\n",
    "mentor: Joanna Kochel (kochel.joanna@gmail.com)\n",
    "\n",
    "## Lesson 3: Functions and basic libraries\n",
    "\n",
    "Goal: Getting to know the python function syntax and learning some basic packages"
   ]
  },
  {
   "cell_type": "markdown",
   "id": "6b3d1fd2-2bda-4736-9a1e-b57668088e4c",
   "metadata": {},
   "source": [
    "### Functions - quick run through\n",
    "\n",
    "A function is a block of code that performs a specific task and can be reused throughout a program. Functions can take in input parameters, perform operations on those inputs, and return output values.\n",
    "\n",
    "To define a function in Python, you use the def keyword followed by the function name, input parameters in parentheses, and a colon. The body of the function is then indented and contains the code that performs the task."
   ]
  },
  {
   "cell_type": "code",
   "execution_count": 4,
   "id": "0255fa1b-89f2-40fc-8cbf-ec65a69b6be5",
   "metadata": {
    "execution": {
     "iopub.execute_input": "2023-03-19T21:13:08.419325Z",
     "iopub.status.busy": "2023-03-19T21:13:08.418320Z",
     "iopub.status.idle": "2023-03-19T21:13:08.430765Z",
     "shell.execute_reply": "2023-03-19T21:13:08.429859Z",
     "shell.execute_reply.started": "2023-03-19T21:13:08.419254Z"
    },
    "tags": []
   },
   "outputs": [],
   "source": [
    "# function definition \n",
    "def say_hello_world():\n",
    "    print(\"Hello world!\")"
   ]
  },
  {
   "cell_type": "code",
   "execution_count": 5,
   "id": "9311da7b-b1c5-4739-9f55-383bccc29366",
   "metadata": {
    "execution": {
     "iopub.execute_input": "2023-03-19T21:13:14.938225Z",
     "iopub.status.busy": "2023-03-19T21:13:14.937217Z",
     "iopub.status.idle": "2023-03-19T21:13:14.948950Z",
     "shell.execute_reply": "2023-03-19T21:13:14.948001Z",
     "shell.execute_reply.started": "2023-03-19T21:13:14.938161Z"
    },
    "tags": []
   },
   "outputs": [
    {
     "name": "stdout",
     "output_type": "stream",
     "text": [
      "Hello world!\n"
     ]
    }
   ],
   "source": [
    "# function exectution\n",
    "say_hello_world()"
   ]
  },
  {
   "cell_type": "code",
   "execution_count": 6,
   "id": "0cb8d8a3-03b0-4c17-ac8b-24fc395a4bf7",
   "metadata": {
    "execution": {
     "iopub.execute_input": "2023-03-19T21:44:10.014044Z",
     "iopub.status.busy": "2023-03-19T21:44:10.013320Z",
     "iopub.status.idle": "2023-03-19T21:44:10.021792Z",
     "shell.execute_reply": "2023-03-19T21:44:10.020446Z",
     "shell.execute_reply.started": "2023-03-19T21:44:10.014000Z"
    }
   },
   "outputs": [
    {
     "name": "stdout",
     "output_type": "stream",
     "text": [
      "Hello world!\n"
     ]
    }
   ],
   "source": [
    "# assigning function result to a variable - what will the next cell return?\n",
    "test = say_hello_world()"
   ]
  },
  {
   "cell_type": "code",
   "execution_count": 7,
   "id": "2e80d342-7d28-449b-925b-753e57fb59a6",
   "metadata": {
    "execution": {
     "iopub.execute_input": "2023-03-19T21:44:10.368685Z",
     "iopub.status.busy": "2023-03-19T21:44:10.368251Z",
     "iopub.status.idle": "2023-03-19T21:44:10.381684Z",
     "shell.execute_reply": "2023-03-19T21:44:10.378973Z",
     "shell.execute_reply.started": "2023-03-19T21:44:10.368655Z"
    }
   },
   "outputs": [
    {
     "name": "stdout",
     "output_type": "stream",
     "text": [
      "None\n"
     ]
    }
   ],
   "source": [
    "print(test)"
   ]
  },
  {
   "cell_type": "code",
   "execution_count": 8,
   "id": "95f87f78-8896-4619-bf76-bf32946476cd",
   "metadata": {
    "execution": {
     "iopub.execute_input": "2023-03-19T21:44:34.758900Z",
     "iopub.status.busy": "2023-03-19T21:44:34.758236Z",
     "iopub.status.idle": "2023-03-19T21:44:34.769133Z",
     "shell.execute_reply": "2023-03-19T21:44:34.767524Z",
     "shell.execute_reply.started": "2023-03-19T21:44:34.758866Z"
    }
   },
   "outputs": [],
   "source": [
    "# difference between print and return\n",
    "def return_hello_world():\n",
    "    return \"Hello world!\""
   ]
  },
  {
   "cell_type": "code",
   "execution_count": 9,
   "id": "98494bfb-55dc-47f2-8a40-93b0a85533ab",
   "metadata": {
    "execution": {
     "iopub.execute_input": "2023-03-19T21:44:48.901862Z",
     "iopub.status.busy": "2023-03-19T21:44:48.900869Z",
     "iopub.status.idle": "2023-03-19T21:44:48.912819Z",
     "shell.execute_reply": "2023-03-19T21:44:48.911369Z",
     "shell.execute_reply.started": "2023-03-19T21:44:48.901798Z"
    }
   },
   "outputs": [],
   "source": [
    "# assigning function result to a variable - what will the next cell return now?\n",
    "test = return_hello_world()"
   ]
  },
  {
   "cell_type": "code",
   "execution_count": 10,
   "id": "442b2411-01ab-43c7-b0d4-3c0f2e5735d8",
   "metadata": {
    "execution": {
     "iopub.execute_input": "2023-03-19T21:44:49.255965Z",
     "iopub.status.busy": "2023-03-19T21:44:49.255474Z",
     "iopub.status.idle": "2023-03-19T21:44:49.266797Z",
     "shell.execute_reply": "2023-03-19T21:44:49.266012Z",
     "shell.execute_reply.started": "2023-03-19T21:44:49.255912Z"
    }
   },
   "outputs": [
    {
     "name": "stdout",
     "output_type": "stream",
     "text": [
      "Hello world!\n"
     ]
    }
   ],
   "source": [
    "print(test)"
   ]
  },
  {
   "cell_type": "code",
   "execution_count": 11,
   "id": "32c841ca-5b10-483a-a3eb-8a1a8f2cec20",
   "metadata": {
    "execution": {
     "iopub.execute_input": "2023-03-19T21:45:02.926626Z",
     "iopub.status.busy": "2023-03-19T21:45:02.925885Z",
     "iopub.status.idle": "2023-03-19T21:45:02.936612Z",
     "shell.execute_reply": "2023-03-19T21:45:02.935445Z",
     "shell.execute_reply.started": "2023-03-19T21:45:02.926587Z"
    }
   },
   "outputs": [],
   "source": [
    "# you can return multiple things\n",
    "def return_hello_world_2():\n",
    "    return \"Hello world!\", 3, 2"
   ]
  },
  {
   "cell_type": "code",
   "execution_count": 12,
   "id": "71dec9e0-0565-46dc-90f4-5d77a6cab3fe",
   "metadata": {
    "execution": {
     "iopub.execute_input": "2023-03-19T21:45:14.560577Z",
     "iopub.status.busy": "2023-03-19T21:45:14.559558Z",
     "iopub.status.idle": "2023-03-19T21:45:14.579093Z",
     "shell.execute_reply": "2023-03-19T21:45:14.578429Z",
     "shell.execute_reply.started": "2023-03-19T21:45:14.560510Z"
    }
   },
   "outputs": [
    {
     "data": {
      "text/plain": [
       "('Hello world!', 3, 2)"
      ]
     },
     "execution_count": 12,
     "metadata": {},
     "output_type": "execute_result"
    }
   ],
   "source": [
    "a = return_hello_world_2()\n",
    "a"
   ]
  },
  {
   "cell_type": "code",
   "execution_count": 15,
   "id": "cca632d6-6f1b-440f-8799-5f399449b858",
   "metadata": {
    "execution": {
     "iopub.execute_input": "2023-03-19T21:45:55.294077Z",
     "iopub.status.busy": "2023-03-19T21:45:55.293058Z",
     "iopub.status.idle": "2023-03-19T21:45:55.309288Z",
     "shell.execute_reply": "2023-03-19T21:45:55.308412Z",
     "shell.execute_reply.started": "2023-03-19T21:45:55.294014Z"
    },
    "tags": []
   },
   "outputs": [
    {
     "data": {
      "text/plain": [
       "3"
      ]
     },
     "execution_count": 15,
     "metadata": {},
     "output_type": "execute_result"
    }
   ],
   "source": [
    "# what will b contain?\n",
    "a, b, c = return_hello_world_2()\n",
    "b"
   ]
  },
  {
   "cell_type": "code",
   "execution_count": 16,
   "id": "df98287b-1cfa-4cca-abee-b1a80a3a4483",
   "metadata": {
    "execution": {
     "iopub.execute_input": "2023-03-19T21:46:24.629734Z",
     "iopub.status.busy": "2023-03-19T21:46:24.628940Z",
     "iopub.status.idle": "2023-03-19T21:46:24.638686Z",
     "shell.execute_reply": "2023-03-19T21:46:24.637884Z",
     "shell.execute_reply.started": "2023-03-19T21:46:24.629688Z"
    }
   },
   "outputs": [],
   "source": [
    "# there can be multiple retur statements in a function\n",
    "def is_bigger_than_3(number):\n",
    "    if number > 3:\n",
    "        return True\n",
    "    return False"
   ]
  },
  {
   "cell_type": "code",
   "execution_count": 17,
   "id": "b071a247-a981-46f3-a611-af0dc4c33a4b",
   "metadata": {
    "execution": {
     "iopub.execute_input": "2023-03-19T21:46:30.995601Z",
     "iopub.status.busy": "2023-03-19T21:46:30.993942Z",
     "iopub.status.idle": "2023-03-19T21:46:31.008389Z",
     "shell.execute_reply": "2023-03-19T21:46:31.007704Z",
     "shell.execute_reply.started": "2023-03-19T21:46:30.995522Z"
    }
   },
   "outputs": [
    {
     "data": {
      "text/plain": [
       "False"
      ]
     },
     "execution_count": 17,
     "metadata": {},
     "output_type": "execute_result"
    }
   ],
   "source": [
    "is_bigger_than_3(2)"
   ]
  },
  {
   "cell_type": "code",
   "execution_count": 18,
   "id": "98024bfc-5b18-44e5-a2b7-5445cedbf999",
   "metadata": {
    "execution": {
     "iopub.execute_input": "2023-03-19T21:46:53.763209Z",
     "iopub.status.busy": "2023-03-19T21:46:53.762504Z",
     "iopub.status.idle": "2023-03-19T21:46:53.774840Z",
     "shell.execute_reply": "2023-03-19T21:46:53.773853Z",
     "shell.execute_reply.started": "2023-03-19T21:46:53.763168Z"
    }
   },
   "outputs": [],
   "source": [
    "# or a missing return for some cases - what will the next cell display?\n",
    "def is_bigger_than_3(number):\n",
    "    if number > 3:\n",
    "        return True"
   ]
  },
  {
   "cell_type": "code",
   "execution_count": 19,
   "id": "4ed5c8f3-4c85-4614-b3af-c505ca4f3094",
   "metadata": {
    "execution": {
     "iopub.execute_input": "2023-03-19T21:46:53.983032Z",
     "iopub.status.busy": "2023-03-19T21:46:53.982085Z",
     "iopub.status.idle": "2023-03-19T21:46:53.995153Z",
     "shell.execute_reply": "2023-03-19T21:46:53.993719Z",
     "shell.execute_reply.started": "2023-03-19T21:46:53.982997Z"
    }
   },
   "outputs": [
    {
     "name": "stdout",
     "output_type": "stream",
     "text": [
      "None\n"
     ]
    }
   ],
   "source": [
    "print(is_bigger_than_3(2))"
   ]
  },
  {
   "cell_type": "code",
   "execution_count": 20,
   "id": "8b8f00a0-7002-4d5a-b647-87f7ad65e498",
   "metadata": {
    "execution": {
     "iopub.execute_input": "2023-03-19T21:46:56.700525Z",
     "iopub.status.busy": "2023-03-19T21:46:56.699383Z",
     "iopub.status.idle": "2023-03-19T21:46:56.841990Z",
     "shell.execute_reply": "2023-03-19T21:46:56.841480Z",
     "shell.execute_reply.started": "2023-03-19T21:46:56.700457Z"
    }
   },
   "outputs": [
    {
     "ename": "TypeError",
     "evalue": "is_bigger_than_3() missing 1 required positional argument: 'number'",
     "output_type": "error",
     "traceback": [
      "\u001b[0;31m---------------------------------------------------------------------------\u001b[0m",
      "\u001b[0;31mTypeError\u001b[0m                                 Traceback (most recent call last)",
      "Cell \u001b[0;32mIn[20], line 1\u001b[0m\n\u001b[0;32m----> 1\u001b[0m \u001b[43mis_bigger_than_3\u001b[49m\u001b[43m(\u001b[49m\u001b[43m)\u001b[49m\n",
      "\u001b[0;31mTypeError\u001b[0m: is_bigger_than_3() missing 1 required positional argument: 'number'"
     ]
    }
   ],
   "source": [
    "is_bigger_than_3()"
   ]
  },
  {
   "cell_type": "code",
   "execution_count": 21,
   "id": "2d0501da-3161-4bb5-8fce-77816fbc9498",
   "metadata": {
    "execution": {
     "iopub.execute_input": "2023-03-19T21:47:07.710869Z",
     "iopub.status.busy": "2023-03-19T21:47:07.710158Z",
     "iopub.status.idle": "2023-03-19T21:47:07.721815Z",
     "shell.execute_reply": "2023-03-19T21:47:07.715971Z",
     "shell.execute_reply.started": "2023-03-19T21:47:07.710830Z"
    }
   },
   "outputs": [],
   "source": [
    "# default arguments\n",
    "def is_bigger_than_3(number=0):\n",
    "    if number > 3:\n",
    "        return True"
   ]
  },
  {
   "cell_type": "code",
   "execution_count": 22,
   "id": "4d23d531-1ed4-4750-84c1-631ff00a78e8",
   "metadata": {
    "execution": {
     "iopub.execute_input": "2023-03-19T21:47:09.759870Z",
     "iopub.status.busy": "2023-03-19T21:47:09.756811Z",
     "iopub.status.idle": "2023-03-19T21:47:09.769727Z",
     "shell.execute_reply": "2023-03-19T21:47:09.768996Z",
     "shell.execute_reply.started": "2023-03-19T21:47:09.759786Z"
    }
   },
   "outputs": [],
   "source": [
    "is_bigger_than_3()"
   ]
  },
  {
   "cell_type": "code",
   "execution_count": 23,
   "id": "e1338f57-97e9-42a9-bcb0-17a0a8d3656e",
   "metadata": {
    "execution": {
     "iopub.execute_input": "2023-03-19T21:47:23.769251Z",
     "iopub.status.busy": "2023-03-19T21:47:23.768258Z",
     "iopub.status.idle": "2023-03-19T21:47:23.779966Z",
     "shell.execute_reply": "2023-03-19T21:47:23.778748Z",
     "shell.execute_reply.started": "2023-03-19T21:47:23.769190Z"
    }
   },
   "outputs": [],
   "source": [
    "# typing\n",
    "def is_bigger_than_3(number: int = 0) -> bool:\n",
    "    if number > 3:\n",
    "        return True"
   ]
  },
  {
   "cell_type": "markdown",
   "id": "5a4c1040-b050-41af-90b0-45dd1d324fe5",
   "metadata": {},
   "source": [
    "Please now write functions that do the following (one function per point):\n",
    "\n",
    "1. Checks is there is a fever given a number with a reading from a termometer.\n",
    "2. Multiplies all the numbers from an input list.\n",
    "3. Asks a user to give an input number and divides this number by 100.\n",
    "\n",
    "Feel free to google!\n"
   ]
  },
  {
   "cell_type": "markdown",
   "id": "6a8e8469-9209-495b-a596-c8de165f339d",
   "metadata": {
    "tags": []
   },
   "source": [
    "### Importing packages"
   ]
  },
  {
   "cell_type": "markdown",
   "id": "b2a52a2a-5e09-47c9-bd1b-abbc4e677329",
   "metadata": {},
   "source": [
    "#### Example: datetime"
   ]
  },
  {
   "cell_type": "code",
   "execution_count": 26,
   "id": "818cbc98-4ee7-45c7-88f9-ed400050a505",
   "metadata": {
    "execution": {
     "iopub.execute_input": "2023-03-19T21:56:32.423971Z",
     "iopub.status.busy": "2023-03-19T21:56:32.423241Z",
     "iopub.status.idle": "2023-03-19T21:56:32.434598Z",
     "shell.execute_reply": "2023-03-19T21:56:32.433737Z",
     "shell.execute_reply.started": "2023-03-19T21:56:32.423930Z"
    },
    "tags": []
   },
   "outputs": [
    {
     "name": "stdout",
     "output_type": "stream",
     "text": [
      "2023-03-19 22:56:32.426044\n"
     ]
    }
   ],
   "source": [
    "import datetime\n",
    "now = datetime.datetime.now()\n",
    "print(now)\n"
   ]
  },
  {
   "cell_type": "code",
   "execution_count": 30,
   "id": "d3d6fbb3-4930-4265-8e96-fd0310448ce5",
   "metadata": {
    "execution": {
     "iopub.execute_input": "2023-03-19T21:57:05.674697Z",
     "iopub.status.busy": "2023-03-19T21:57:05.673730Z",
     "iopub.status.idle": "2023-03-19T21:57:05.687768Z",
     "shell.execute_reply": "2023-03-19T21:57:05.685286Z",
     "shell.execute_reply.started": "2023-03-19T21:57:05.674634Z"
    },
    "tags": []
   },
   "outputs": [
    {
     "name": "stdout",
     "output_type": "stream",
     "text": [
      "2023-03-19 22:57:05.677608\n"
     ]
    }
   ],
   "source": [
    "# sometimes package names are annoyingly long\n",
    "import datetime as dt\n",
    "now = dt.datetime.now()\n",
    "print(now)"
   ]
  },
  {
   "cell_type": "code",
   "execution_count": 31,
   "id": "b7588254-b707-4b0b-aba4-b83a33a9e2f6",
   "metadata": {
    "execution": {
     "iopub.execute_input": "2023-03-19T21:58:04.812729Z",
     "iopub.status.busy": "2023-03-19T21:58:04.812213Z",
     "iopub.status.idle": "2023-03-19T21:58:04.819081Z",
     "shell.execute_reply": "2023-03-19T21:58:04.818414Z",
     "shell.execute_reply.started": "2023-03-19T21:58:04.812696Z"
    }
   },
   "outputs": [
    {
     "name": "stdout",
     "output_type": "stream",
     "text": [
      "2023-03-19 22:58:04.814572\n"
     ]
    }
   ],
   "source": [
    "# sometimes we need just a small part of the package; !!! it will still import the whole package\n",
    "from datetime import datetime as dt\n",
    "now = dt.now()\n",
    "print(now)"
   ]
  },
  {
   "cell_type": "code",
   "execution_count": 32,
   "id": "fe556cb8-f8c0-4997-a270-dd06a90676ba",
   "metadata": {
    "execution": {
     "iopub.execute_input": "2023-03-19T21:58:21.866574Z",
     "iopub.status.busy": "2023-03-19T21:58:21.865571Z",
     "iopub.status.idle": "2023-03-19T21:58:22.783236Z",
     "shell.execute_reply": "2023-03-19T21:58:22.782947Z",
     "shell.execute_reply.started": "2023-03-19T21:58:21.866509Z"
    }
   },
   "outputs": [],
   "source": [
    "# sometimes there are commonly used aliases for packages\n",
    "\n",
    "import datetime as dt\n",
    "import pandas as pd"
   ]
  },
  {
   "cell_type": "markdown",
   "id": "bd151f6d-40b1-409a-9d2e-f001dc5d60c2",
   "metadata": {},
   "source": [
    "#### \\<addition\\> how to operate on files"
   ]
  },
  {
   "cell_type": "code",
   "execution_count": 33,
   "id": "3edd3c75-a3a1-4985-9fd8-5633c7130bef",
   "metadata": {
    "execution": {
     "iopub.execute_input": "2023-03-19T22:01:01.966868Z",
     "iopub.status.busy": "2023-03-19T22:01:01.965488Z",
     "iopub.status.idle": "2023-03-19T22:01:01.977258Z",
     "shell.execute_reply": "2023-03-19T22:01:01.976313Z",
     "shell.execute_reply.started": "2023-03-19T22:01:01.966803Z"
    }
   },
   "outputs": [
    {
     "name": "stdout",
     "output_type": "stream",
     "text": [
      "Hello there, I am a file\n",
      "I have more than one line\n",
      "and I am just a simple text file\n"
     ]
    }
   ],
   "source": [
    "with open('misc/test.txt', 'r') as f:\n",
    "    content = f.read()\n",
    "    print(content)\n",
    "\n",
    "# By default a file is opened in the read mode - 'r'\n",
    "# 'r' - read\n",
    "# 'w' - write\n",
    "# 'a' - append"
   ]
  },
  {
   "cell_type": "code",
   "execution_count": 38,
   "id": "c1001568-05e1-4623-9eb6-a560e73c0899",
   "metadata": {
    "execution": {
     "iopub.execute_input": "2023-03-19T22:02:31.260096Z",
     "iopub.status.busy": "2023-03-19T22:02:31.259036Z",
     "iopub.status.idle": "2023-03-19T22:02:31.272806Z",
     "shell.execute_reply": "2023-03-19T22:02:31.271925Z",
     "shell.execute_reply.started": "2023-03-19T22:02:31.260032Z"
    },
    "tags": []
   },
   "outputs": [
    {
     "name": "stdout",
     "output_type": "stream",
     "text": [
      "['Hello there, I am a file\\n', 'I have more than one line\\n', 'and I am just a simple text file']\n"
     ]
    }
   ],
   "source": [
    "# After opening a file you can iterate over the lines (without reading the whole file at the same time):\n",
    "\n",
    "lines_list = []\n",
    "with open('misc/test.txt', 'r') as f:\n",
    "    for line in f:\n",
    "        lines_list.append(line)\n",
    "print(lines_list)"
   ]
  },
  {
   "cell_type": "code",
   "execution_count": 39,
   "id": "74ba7fb4-1a91-4596-8aa6-65185ebfbd80",
   "metadata": {
    "execution": {
     "iopub.execute_input": "2023-03-19T22:02:42.288615Z",
     "iopub.status.busy": "2023-03-19T22:02:42.287558Z",
     "iopub.status.idle": "2023-03-19T22:02:42.302714Z",
     "shell.execute_reply": "2023-03-19T22:02:42.301840Z",
     "shell.execute_reply.started": "2023-03-19T22:02:42.288546Z"
    },
    "tags": []
   },
   "outputs": [
    {
     "data": {
      "text/plain": [
       "'Hello there, I am a file'"
      ]
     },
     "execution_count": 39,
     "metadata": {},
     "output_type": "execute_result"
    }
   ],
   "source": [
    "# '\\n' - new line sign\n",
    "# '\\t' - tabulation sign\n",
    "\n",
    "lines_list[0].strip()"
   ]
  },
  {
   "cell_type": "code",
   "execution_count": 45,
   "id": "30d462b5-d806-41f2-8619-dd2f83564c73",
   "metadata": {
    "execution": {
     "iopub.execute_input": "2023-03-19T22:04:13.557572Z",
     "iopub.status.busy": "2023-03-19T22:04:13.556863Z",
     "iopub.status.idle": "2023-03-19T22:04:13.568849Z",
     "shell.execute_reply": "2023-03-19T22:04:13.568002Z",
     "shell.execute_reply.started": "2023-03-19T22:04:13.557534Z"
    },
    "tags": []
   },
   "outputs": [],
   "source": [
    "# Writing to a file:\n",
    "\n",
    "with open('misc/new.txt', 'w') as f:\n",
    "    f.write('\\tfirst line\\n')\n",
    "    f.write('\\tlast linia')\n"
   ]
  },
  {
   "cell_type": "code",
   "execution_count": 46,
   "id": "3057efdb-62ed-4751-a163-8cd97b6f045d",
   "metadata": {
    "execution": {
     "iopub.execute_input": "2023-03-19T22:04:13.972495Z",
     "iopub.status.busy": "2023-03-19T22:04:13.971372Z",
     "iopub.status.idle": "2023-03-19T22:04:13.995255Z",
     "shell.execute_reply": "2023-03-19T22:04:13.993684Z",
     "shell.execute_reply.started": "2023-03-19T22:04:13.972057Z"
    },
    "tags": []
   },
   "outputs": [
    {
     "ename": "UnsupportedOperation",
     "evalue": "not readable",
     "output_type": "error",
     "traceback": [
      "\u001b[0;31m---------------------------------------------------------------------------\u001b[0m",
      "\u001b[0;31mUnsupportedOperation\u001b[0m                      Traceback (most recent call last)",
      "Cell \u001b[0;32mIn[46], line 2\u001b[0m\n\u001b[1;32m      1\u001b[0m \u001b[38;5;28;01mwith\u001b[39;00m \u001b[38;5;28mopen\u001b[39m(\u001b[38;5;124m'\u001b[39m\u001b[38;5;124mmisc/new.txt\u001b[39m\u001b[38;5;124m'\u001b[39m, \u001b[38;5;124m'\u001b[39m\u001b[38;5;124mw\u001b[39m\u001b[38;5;124m'\u001b[39m) \u001b[38;5;28;01mas\u001b[39;00m f:\n\u001b[0;32m----> 2\u001b[0m     content \u001b[38;5;241m=\u001b[39m \u001b[43mf\u001b[49m\u001b[38;5;241;43m.\u001b[39;49m\u001b[43mread\u001b[49m\u001b[43m(\u001b[49m\u001b[43m)\u001b[49m\n",
      "\u001b[0;31mUnsupportedOperation\u001b[0m: not readable"
     ]
    }
   ],
   "source": [
    "# you cannot read a file that is in a wrirte mode!\n",
    "with open('misc/new.txt', 'w') as f:\n",
    "    content = f.read()"
   ]
  },
  {
   "cell_type": "markdown",
   "id": "05a1e13c-8235-4da6-ae5c-d5122ee1d860",
   "metadata": {},
   "source": [
    "#### Useful package: csv"
   ]
  },
  {
   "cell_type": "code",
   "execution_count": null,
   "id": "147c5131-4b53-47b5-937d-6c5c122abfa2",
   "metadata": {},
   "outputs": [],
   "source": []
  },
  {
   "cell_type": "markdown",
   "id": "038bd6bb-7b40-4c0e-b746-acab259a577f",
   "metadata": {
    "tags": []
   },
   "source": [
    "#### Useful package: json\n",
    "JSON is a way to store and exchange information between different computer programs. JSON uses something called \"key-value pairs\" to organize information. A key is a word that describes a piece of information, and the value is the actual information itself.\n"
   ]
  },
  {
   "cell_type": "code",
   "execution_count": 47,
   "id": "393492bf-5269-4886-8cb4-48cc93fabe00",
   "metadata": {
    "execution": {
     "iopub.execute_input": "2023-03-19T22:05:25.791443Z",
     "iopub.status.busy": "2023-03-19T22:05:25.790459Z",
     "iopub.status.idle": "2023-03-19T22:05:25.800901Z",
     "shell.execute_reply": "2023-03-19T22:05:25.798900Z",
     "shell.execute_reply.started": "2023-03-19T22:05:25.791377Z"
    }
   },
   "outputs": [],
   "source": [
    "new_json = {\n",
    "    \"2\": 3, \n",
    "    \"c\": \"a\", \n",
    "    \"a\": 1\n",
    "}"
   ]
  },
  {
   "cell_type": "code",
   "execution_count": 48,
   "id": "4aeadd1f-3d8a-445a-a58c-644862e4782b",
   "metadata": {
    "execution": {
     "iopub.execute_input": "2023-03-19T22:08:41.382585Z",
     "iopub.status.busy": "2023-03-19T22:08:41.381313Z",
     "iopub.status.idle": "2023-03-19T22:08:41.393480Z",
     "shell.execute_reply": "2023-03-19T22:08:41.390364Z",
     "shell.execute_reply.started": "2023-03-19T22:08:41.382517Z"
    }
   },
   "outputs": [
    {
     "name": "stdout",
     "output_type": "stream",
     "text": [
      "[1, 2, 3]\n"
     ]
    }
   ],
   "source": [
    "import json\n",
    "\n",
    "test_list = [1, 2, 3]\n",
    "test_list_json = json.dumps(test_list)\n",
    "print(test_list_json)"
   ]
  },
  {
   "cell_type": "code",
   "execution_count": 49,
   "id": "db8de103-b396-4053-bd91-993c53159c7c",
   "metadata": {
    "execution": {
     "iopub.execute_input": "2023-03-19T22:09:01.520962Z",
     "iopub.status.busy": "2023-03-19T22:09:01.519966Z",
     "iopub.status.idle": "2023-03-19T22:09:01.530952Z",
     "shell.execute_reply": "2023-03-19T22:09:01.529830Z",
     "shell.execute_reply.started": "2023-03-19T22:09:01.520896Z"
    }
   },
   "outputs": [
    {
     "name": "stdout",
     "output_type": "stream",
     "text": [
      "{\"a\": 1, \"b\": 2, \"c\": 3}\n"
     ]
    }
   ],
   "source": [
    "test_dict = {'a': 1, 'b': 2, 'c':3}\n",
    "test_dict_json = json.dumps(test_dict)\n",
    "print(test_dict_json)"
   ]
  },
  {
   "cell_type": "code",
   "execution_count": 51,
   "id": "54b5ca2e-49ab-4b4c-bf13-5409e606e75d",
   "metadata": {
    "execution": {
     "iopub.execute_input": "2023-03-19T22:09:34.477587Z",
     "iopub.status.busy": "2023-03-19T22:09:34.476552Z",
     "iopub.status.idle": "2023-03-19T22:09:34.489453Z",
     "shell.execute_reply": "2023-03-19T22:09:34.488419Z",
     "shell.execute_reply.started": "2023-03-19T22:09:34.477520Z"
    },
    "tags": []
   },
   "outputs": [
    {
     "name": "stdout",
     "output_type": "stream",
     "text": [
      "{\"a\": 1, \"2\": 3, \"c\": \"a\"}\n"
     ]
    }
   ],
   "source": [
    "# keys are always strings in jsons!\n",
    "test_dict2 = {'a': 1, 2: 3, 'c':\"a\"}\n",
    "test_dict2_json = json.dumps(test_dict2)\n",
    "print(test_dict2_json)\n"
   ]
  },
  {
   "cell_type": "code",
   "execution_count": null,
   "id": "356245b4-7351-404e-9e34-ae27ce8fbf19",
   "metadata": {},
   "outputs": [],
   "source": [
    "# saving json to a file\n",
    "\n",
    "filename = \"misc/json_example.json\"\n",
    "with open(filename, \"w\") as fp:\n",
    "    json.dump(test_dict2, fp)\n"
   ]
  },
  {
   "cell_type": "code",
   "execution_count": null,
   "id": "266f85ff-3add-4f99-9655-a0bf65990c57",
   "metadata": {},
   "outputs": [],
   "source": [
    "# reading json files\n",
    "\n",
    "filename = \"misc/json_example.json\"\n",
    "with open(filename, \"r\") as fp:\n",
    "    new_test_dict2 = json.load(fp)\n",
    "print(new_test_dict2)"
   ]
  },
  {
   "cell_type": "code",
   "execution_count": 52,
   "id": "496e5290-1207-4ca9-ba5c-e954a39cd72a",
   "metadata": {
    "execution": {
     "iopub.execute_input": "2023-03-19T22:11:02.408307Z",
     "iopub.status.busy": "2023-03-19T22:11:02.407436Z",
     "iopub.status.idle": "2023-03-19T22:11:02.420480Z",
     "shell.execute_reply": "2023-03-19T22:11:02.419569Z",
     "shell.execute_reply.started": "2023-03-19T22:11:02.408259Z"
    }
   },
   "outputs": [
    {
     "name": "stdout",
     "output_type": "stream",
     "text": [
      "[1, 2, 3]\n",
      "<class 'list'>\n"
     ]
    }
   ],
   "source": [
    "# reading json from a string\n",
    "\n",
    "read_json = json.loads(\"[1,2,3]\")\n",
    "print(read_json)\n",
    "print(type(read_json))\n"
   ]
  }
 ],
 "metadata": {
  "kernelspec": {
   "display_name": "general",
   "language": "python",
   "name": "general"
  },
  "language_info": {
   "codemirror_mode": {
    "name": "ipython",
    "version": 3
   },
   "file_extension": ".py",
   "mimetype": "text/x-python",
   "name": "python",
   "nbconvert_exporter": "python",
   "pygments_lexer": "ipython3",
   "version": "3.9.9"
  }
 },
 "nbformat": 4,
 "nbformat_minor": 5
}
