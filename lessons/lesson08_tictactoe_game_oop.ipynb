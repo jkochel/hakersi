{
 "cells": [
  {
   "cell_type": "markdown",
   "id": "9acf0db2-fcdb-4ff6-84bc-bf1627a7d3a6",
   "metadata": {},
   "source": [
    "# Hakersi - advanced python\n",
    "mentor: Joanna Kochel (kochel.joanna@gmail.com)\n",
    "\n",
    "## Lesson 8: Object oriented programming\n",
    "\n",
    "Goal: Understanding basics of OOP and creating a simple `Board` class to store Tic Tac Toe game in"
   ]
  },
  {
   "cell_type": "code",
   "execution_count": 6,
   "id": "d760a11f-ebec-4249-8705-1a3979a6e84b",
   "metadata": {
    "execution": {
     "iopub.execute_input": "2023-03-19T23:04:56.488575Z",
     "iopub.status.busy": "2023-03-19T23:04:56.488036Z",
     "iopub.status.idle": "2023-03-19T23:04:56.496554Z",
     "shell.execute_reply": "2023-03-19T23:04:56.495651Z",
     "shell.execute_reply.started": "2023-03-19T23:04:56.488547Z"
    },
    "tags": []
   },
   "outputs": [
    {
     "data": {
      "text/html": [
       "\n",
       "        <iframe\n",
       "            width=\"1000\"\n",
       "            height=\"700\"\n",
       "            src=\"./img/oop.pdf\"\n",
       "            frameborder=\"0\"\n",
       "            allowfullscreen\n",
       "            \n",
       "        ></iframe>\n",
       "        "
      ],
      "text/plain": [
       "<IPython.lib.display.IFrame at 0x105b5a670>"
      ]
     },
     "execution_count": 6,
     "metadata": {},
     "output_type": "execute_result"
    }
   ],
   "source": [
    "from IPython.display import IFrame\n",
    "IFrame(\"./img/oop.pdf\", width=1000, height=700)"
   ]
  },
  {
   "cell_type": "code",
   "execution_count": 20,
   "id": "e40c276e-9027-4a89-9a53-2d250bba720b",
   "metadata": {
    "execution": {
     "iopub.execute_input": "2023-03-19T23:11:25.106302Z",
     "iopub.status.busy": "2023-03-19T23:11:25.105261Z",
     "iopub.status.idle": "2023-03-19T23:11:25.121586Z",
     "shell.execute_reply": "2023-03-19T23:11:25.120908Z",
     "shell.execute_reply.started": "2023-03-19T23:11:25.106242Z"
    },
    "tags": []
   },
   "outputs": [],
   "source": [
    "class Bicycle:\n",
    "    def __init__(self, brand, model, color):\n",
    "        self.brand = brand\n",
    "        self.model = model\n",
    "        self.color = color\n",
    "        self.current_speed = 0\n",
    "        \n",
    "    def pedal(self, speed_increase):\n",
    "        self.current_speed += speed_increase\n",
    "        \n",
    "    def brake(self, speed_decrease):\n",
    "        self.current_speed = max(0, self.current_speed - speed_decrease)\n",
    "        \n",
    "    def describe(self):\n",
    "        print(f\"This is a {self.color} {self.brand} {self.model} bicycle going {self.current_speed} mph.\" )\n",
    "        \n",
    "    def __eq__(self, other):\n",
    "        if isinstance(other, Bicycle):\n",
    "            return (self.color == other.color and\n",
    "                self.brand == other.brand and\n",
    "                self.model == other.model )\n",
    "        return False"
   ]
  },
  {
   "cell_type": "code",
   "execution_count": 21,
   "id": "0a4214b9-5d5e-4264-913f-55d0bce175ff",
   "metadata": {
    "execution": {
     "iopub.execute_input": "2023-03-19T23:11:27.060991Z",
     "iopub.status.busy": "2023-03-19T23:11:27.059949Z",
     "iopub.status.idle": "2023-03-19T23:11:27.072909Z",
     "shell.execute_reply": "2023-03-19T23:11:27.071160Z",
     "shell.execute_reply.started": "2023-03-19T23:11:27.060931Z"
    },
    "tags": []
   },
   "outputs": [],
   "source": [
    "bike = Bicycle(brand='rower', model='moutain', color='blue')"
   ]
  },
  {
   "cell_type": "code",
   "execution_count": 22,
   "id": "4b84b0a7-dc42-4fcf-a783-3b575bccf8d4",
   "metadata": {
    "execution": {
     "iopub.execute_input": "2023-03-19T23:11:27.633955Z",
     "iopub.status.busy": "2023-03-19T23:11:27.632992Z",
     "iopub.status.idle": "2023-03-19T23:11:27.645493Z",
     "shell.execute_reply": "2023-03-19T23:11:27.644489Z",
     "shell.execute_reply.started": "2023-03-19T23:11:27.633899Z"
    },
    "tags": []
   },
   "outputs": [
    {
     "name": "stdout",
     "output_type": "stream",
     "text": [
      "This is a blue rower moutain bicycle going 10000 mph.\n"
     ]
    }
   ],
   "source": [
    "bike.pedal(10000)\n",
    "bike.describe()"
   ]
  },
  {
   "cell_type": "code",
   "execution_count": 23,
   "id": "f7c12847-455d-423c-99e9-a7e75e3129a1",
   "metadata": {
    "execution": {
     "iopub.execute_input": "2023-03-19T23:11:28.103399Z",
     "iopub.status.busy": "2023-03-19T23:11:28.102496Z",
     "iopub.status.idle": "2023-03-19T23:11:28.117344Z",
     "shell.execute_reply": "2023-03-19T23:11:28.116815Z",
     "shell.execute_reply.started": "2023-03-19T23:11:28.103351Z"
    },
    "tags": []
   },
   "outputs": [
    {
     "data": {
      "text/plain": [
       "True"
      ]
     },
     "execution_count": 23,
     "metadata": {},
     "output_type": "execute_result"
    }
   ],
   "source": [
    "bike2 = Bicycle(brand='rower', model='moutain', color='blue')\n",
    "\n",
    "bike == bike2"
   ]
  },
  {
   "cell_type": "markdown",
   "id": "c5cb628e-2c99-4b66-89a4-3190e56689fb",
   "metadata": {
    "execution": {
     "iopub.execute_input": "2023-03-19T23:08:51.787011Z",
     "iopub.status.busy": "2023-03-19T23:08:51.785950Z",
     "iopub.status.idle": "2023-03-19T23:08:51.800301Z",
     "shell.execute_reply": "2023-03-19T23:08:51.797547Z",
     "shell.execute_reply.started": "2023-03-19T23:08:51.786949Z"
    }
   },
   "source": [
    "### Creating `Game` class"
   ]
  },
  {
   "cell_type": "code",
   "execution_count": null,
   "id": "ff2443d9-cc77-4efe-a03c-773a77efb895",
   "metadata": {},
   "outputs": [],
   "source": [
    "class Game:\n",
    "    def __init__(self, board_size, who_starts = 'x'):\n",
    "        self.board_size = board_size\n",
    "        self.board = self._create_board()\n",
    "        self.whose_turn_is_it = who_starts\n",
    "    \n",
    "    def _create_board(self):\n",
    "        list1 = []\n",
    "        board = []\n",
    "        for i in range(self.board_size):\n",
    "            list1.append(None)\n",
    "        for j in range(self.board_size):\n",
    "            board.append(list1)\n",
    "        return board\n",
    "    \n",
    "    \n",
    "    def _create_horizon_line(self):\n",
    "        s = \"  \"\n",
    "        for i in range(self.board_size):\n",
    "            s += \" ---\"\n",
    "        \n",
    "        s += \" \"\n",
    "    \n",
    "        return s\n",
    "\n",
    "    def _create_vertical_line(self, row_number):\n",
    "        row = self.board[row_number]\n",
    "        \n",
    "        s = chr(65 + row_number) + \" \"\n",
    "        for i in range(self.board_size):\n",
    "            if row[i] == 1:\n",
    "                s += \"| x \"\n",
    "            elif row[i] == 0:\n",
    "                s += \"| o \"\n",
    "            elif row[i] == None:\n",
    "                s += \"|   \"\n",
    "        s += \"|\"\n",
    "        return s\n",
    "    \n",
    "    def _create_header(self):\n",
    "        s2 = \"    \"\n",
    "        for i in range(self.board_size):\n",
    "            s2 += str(i + 1) + \"   \"\n",
    "        \n",
    "        return s2\n",
    "        \n",
    "    \n",
    "    \n",
    "    def show_board(self):\n",
    "        print(self._create_header())\n",
    "        for i in range(self.board_size):\n",
    "            print(self._create_horizon_line())\n",
    "            print(self._create_vertical_line(i))\n",
    "        print(self._create_horizon_line())\n",
    "        \n",
    "        \n",
    "        \n",
    "game1 = Game(4, 'o')"
   ]
  }
 ],
 "metadata": {
  "kernelspec": {
   "display_name": "general",
   "language": "python",
   "name": "general"
  },
  "language_info": {
   "codemirror_mode": {
    "name": "ipython",
    "version": 3
   },
   "file_extension": ".py",
   "mimetype": "text/x-python",
   "name": "python",
   "nbconvert_exporter": "python",
   "pygments_lexer": "ipython3",
   "version": "3.9.9"
  }
 },
 "nbformat": 4,
 "nbformat_minor": 5
}
