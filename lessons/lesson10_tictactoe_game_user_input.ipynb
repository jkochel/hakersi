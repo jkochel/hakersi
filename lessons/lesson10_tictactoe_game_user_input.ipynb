{
 "cells": [
  {
   "cell_type": "markdown",
   "id": "5536ced4-ac1b-4a6b-a25b-b7f24933070a",
   "metadata": {},
   "source": [
    "# Hakersi - advanced python\n",
    "mentor: Joanna Kochel (kochel.joanna@gmail.com)\n",
    "\n",
    "## Lesson 10: Accounting for user input in Tic Tac Toe game\n",
    "\n",
    "Goal: Adding field IDs indications and allowing user to enter input"
   ]
  },
  {
   "cell_type": "code",
   "execution_count": null,
   "id": "4acb9764-43ce-4568-93f7-422d8af10ae6",
   "metadata": {},
   "outputs": [],
   "source": [
    "%load_ext autoreload\n",
    "%autoreload 2"
   ]
  },
  {
   "cell_type": "code",
   "execution_count": 1,
   "id": "b4cc900f-9e0b-4c8e-8acf-25fa61e5e321",
   "metadata": {
    "execution": {
     "iopub.execute_input": "2023-03-19T23:20:41.211642Z",
     "iopub.status.busy": "2023-03-19T23:20:41.210584Z",
     "iopub.status.idle": "2023-03-19T23:20:41.229469Z",
     "shell.execute_reply": "2023-03-19T23:20:41.228787Z",
     "shell.execute_reply.started": "2023-03-19T23:20:41.211572Z"
    }
   },
   "outputs": [],
   "source": [
    "from GameClass import Game"
   ]
  },
  {
   "cell_type": "code",
   "execution_count": 2,
   "id": "9bc1a685-f6bc-4cb2-be7c-4838a4db15eb",
   "metadata": {
    "execution": {
     "iopub.execute_input": "2023-03-19T23:20:48.146930Z",
     "iopub.status.busy": "2023-03-19T23:20:48.145933Z",
     "iopub.status.idle": "2023-03-19T23:20:48.158935Z",
     "shell.execute_reply": "2023-03-19T23:20:48.157912Z",
     "shell.execute_reply.started": "2023-03-19T23:20:48.146869Z"
    }
   },
   "outputs": [],
   "source": [
    "game = Game(3)"
   ]
  },
  {
   "cell_type": "code",
   "execution_count": 4,
   "id": "418f6425-ea22-4668-bbe2-a813fe2e57d4",
   "metadata": {
    "execution": {
     "iopub.execute_input": "2023-03-19T23:21:00.740339Z",
     "iopub.status.busy": "2023-03-19T23:21:00.739275Z",
     "iopub.status.idle": "2023-03-19T23:21:00.750439Z",
     "shell.execute_reply": "2023-03-19T23:21:00.747824Z",
     "shell.execute_reply.started": "2023-03-19T23:21:00.740265Z"
    },
    "tags": []
   },
   "outputs": [
    {
     "name": "stdout",
     "output_type": "stream",
     "text": [
      "    1   2   3   \n",
      "   --- --- --- \n",
      "A |   |   |   |\n",
      "   --- --- --- \n",
      "B |   |   |   |\n",
      "   --- --- --- \n",
      "C |   |   |   |\n",
      "   --- --- --- \n"
     ]
    }
   ],
   "source": [
    "game.show_board()"
   ]
  },
  {
   "cell_type": "code",
   "execution_count": null,
   "id": "38d3650a-4195-405e-980b-47d1da8e5eb2",
   "metadata": {},
   "outputs": [],
   "source": []
  }
 ],
 "metadata": {
  "kernelspec": {
   "display_name": "general",
   "language": "python",
   "name": "general"
  },
  "language_info": {
   "codemirror_mode": {
    "name": "ipython",
    "version": 3
   },
   "file_extension": ".py",
   "mimetype": "text/x-python",
   "name": "python",
   "nbconvert_exporter": "python",
   "pygments_lexer": "ipython3",
   "version": "3.9.9"
  }
 },
 "nbformat": 4,
 "nbformat_minor": 5
}
