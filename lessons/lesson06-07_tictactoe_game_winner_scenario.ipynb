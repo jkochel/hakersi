{
 "cells": [
  {
   "cell_type": "markdown",
   "id": "55e178b8-98f6-49a1-a371-2251d77f4135",
   "metadata": {},
   "source": [
    "# Hakersi - advanced python\n",
    "mentor: Joanna Kochel (kochel.joanna@gmail.com)\n",
    "\n",
    "## Lessons 6-7: Tic Tac Toe game and deciding if there is a winner\n",
    "\n",
    "Goal: Knowing what a matrix is and how to handle it with python + implementing the winner checks"
   ]
  },
  {
   "cell_type": "markdown",
   "id": "b442d838-becf-4c54-813a-eca8f767b005",
   "metadata": {},
   "source": [
    "### Matrix"
   ]
  },
  {
   "cell_type": "markdown",
   "id": "4dcd4c61-e97b-4974-81cd-0d85b9e5ba00",
   "metadata": {},
   "source": [
    "A 2D matrix is a two-dimensional array of values, where each value is identified by its row and column index. It can be thought of as a grid of values, similar to a table.\n",
    "\n",
    "Python provides several ways to represent and work with matrices. One common way is to use a list of lists, where each inner list represents a row in the matrix. For example, here is a matrix with three rows and three columns represented as a list of lists:"
   ]
  },
  {
   "cell_type": "code",
   "execution_count": 2,
   "id": "cf39860d-8599-4819-8149-e6e2425d720e",
   "metadata": {
    "execution": {
     "iopub.execute_input": "2023-03-19T22:33:40.059988Z",
     "iopub.status.busy": "2023-03-19T22:33:40.059365Z",
     "iopub.status.idle": "2023-03-19T22:33:40.074696Z",
     "shell.execute_reply": "2023-03-19T22:33:40.073280Z",
     "shell.execute_reply.started": "2023-03-19T22:33:40.059950Z"
    },
    "tags": []
   },
   "outputs": [
    {
     "data": {
      "text/plain": [
       "[[1, 2, 3], [4, 5, 6], [7, 8, 9]]"
      ]
     },
     "execution_count": 2,
     "metadata": {},
     "output_type": "execute_result"
    }
   ],
   "source": [
    "matrix = [[1, 2, 3], [4, 5, 6], [7, 8, 9]]\n",
    "# [[1, 2, 3],\n",
    "#  [4, 5, 6],\n",
    "#  [7, 8, 9]]\n",
    "matrix"
   ]
  },
  {
   "cell_type": "markdown",
   "id": "1960d669-64d6-4996-b26a-4f850d3cb86b",
   "metadata": {},
   "source": [
    "#### Generation \n",
    "You can easily generate metrixes using list comprehension!"
   ]
  },
  {
   "cell_type": "code",
   "execution_count": 3,
   "id": "07e86c28-9a9d-471b-b3d5-166ef805cb5b",
   "metadata": {
    "execution": {
     "iopub.execute_input": "2023-03-19T22:34:57.680428Z",
     "iopub.status.busy": "2023-03-19T22:34:57.679385Z",
     "iopub.status.idle": "2023-03-19T22:34:57.691499Z",
     "shell.execute_reply": "2023-03-19T22:34:57.689014Z",
     "shell.execute_reply.started": "2023-03-19T22:34:57.680359Z"
    }
   },
   "outputs": [
    {
     "data": {
      "text/plain": [
       "[[None, None], [None, None]]"
      ]
     },
     "execution_count": 3,
     "metadata": {},
     "output_type": "execute_result"
    }
   ],
   "source": [
    "size = 2\n",
    "matrix1 = [[None] * size for i in range(size)]\n",
    "matrix1"
   ]
  },
  {
   "cell_type": "code",
   "execution_count": 4,
   "id": "184c3189-414d-46f9-9882-8ce8d50662f6",
   "metadata": {
    "execution": {
     "iopub.execute_input": "2023-03-19T22:37:00.324854Z",
     "iopub.status.busy": "2023-03-19T22:37:00.324079Z",
     "iopub.status.idle": "2023-03-19T22:37:00.335531Z",
     "shell.execute_reply": "2023-03-19T22:37:00.332634Z",
     "shell.execute_reply.started": "2023-03-19T22:37:00.324813Z"
    }
   },
   "outputs": [
    {
     "name": "stdout",
     "output_type": "stream",
     "text": [
      "[0, 1, 2, 3, 4]\n"
     ]
    }
   ],
   "source": [
    "# 1 dimension matrix is a list\n",
    "matrix_1d = list(range(5))\n",
    "print(matrix_1d)"
   ]
  },
  {
   "cell_type": "code",
   "execution_count": 12,
   "id": "b3dae9a3-b5cc-4c97-9cfc-b787e86952ba",
   "metadata": {
    "execution": {
     "iopub.execute_input": "2023-03-19T22:39:00.067798Z",
     "iopub.status.busy": "2023-03-19T22:39:00.066842Z",
     "iopub.status.idle": "2023-03-19T22:39:00.079132Z",
     "shell.execute_reply": "2023-03-19T22:39:00.077896Z",
     "shell.execute_reply.started": "2023-03-19T22:39:00.067735Z"
    },
    "tags": []
   },
   "outputs": [
    {
     "name": "stdout",
     "output_type": "stream",
     "text": [
      "[[0, 1, 2, 3, 4], [0, 1, 2, 3, 4], [0, 1, 2, 3, 4], [0, 1, 2, 3, 4], [0, 1, 2, 3, 4]]\n"
     ]
    }
   ],
   "source": [
    "# 2 dimension matrix is a list of lists (a \"chess board\" like structure)\n",
    "matrix_2d = [matrix_1d for i in range(5)]\n",
    "print(matrix_2d)"
   ]
  },
  {
   "cell_type": "code",
   "execution_count": 13,
   "id": "ea4c37fa-e40b-45a9-aa41-9868ac4bae53",
   "metadata": {
    "execution": {
     "iopub.execute_input": "2023-03-19T22:39:50.780113Z",
     "iopub.status.busy": "2023-03-19T22:39:50.779372Z",
     "iopub.status.idle": "2023-03-19T22:39:50.787966Z",
     "shell.execute_reply": "2023-03-19T22:39:50.786777Z",
     "shell.execute_reply.started": "2023-03-19T22:39:50.780078Z"
    }
   },
   "outputs": [
    {
     "name": "stdout",
     "output_type": "stream",
     "text": [
      "[[[0, 1, 2, 3, 4], [0, 1, 2, 3, 4], [0, 1, 2, 3, 4], [0, 1, 2, 3, 4], [0, 1, 2, 3, 4]], [[0, 1, 2, 3, 4], [0, 1, 2, 3, 4], [0, 1, 2, 3, 4], [0, 1, 2, 3, 4], [0, 1, 2, 3, 4]], [[0, 1, 2, 3, 4], [0, 1, 2, 3, 4], [0, 1, 2, 3, 4], [0, 1, 2, 3, 4], [0, 1, 2, 3, 4]], [[0, 1, 2, 3, 4], [0, 1, 2, 3, 4], [0, 1, 2, 3, 4], [0, 1, 2, 3, 4], [0, 1, 2, 3, 4]], [[0, 1, 2, 3, 4], [0, 1, 2, 3, 4], [0, 1, 2, 3, 4], [0, 1, 2, 3, 4], [0, 1, 2, 3, 4]]]\n"
     ]
    }
   ],
   "source": [
    "# 3 dimension matrix is a list of lists of lists (a \"rubik cube\" like structure)\n",
    "matrix_3d = [matrix_2d for i in range(5)]\n",
    "print(matrix_3d)"
   ]
  },
  {
   "cell_type": "markdown",
   "id": "c0f1dfc3-6585-4c90-8d7a-ce1891f9cb7e",
   "metadata": {
    "execution": {
     "iopub.execute_input": "2023-03-19T22:40:35.719215Z",
     "iopub.status.busy": "2023-03-19T22:40:35.718195Z",
     "iopub.status.idle": "2023-03-19T22:40:35.731132Z",
     "shell.execute_reply": "2023-03-19T22:40:35.729688Z",
     "shell.execute_reply.started": "2023-03-19T22:40:35.719179Z"
    }
   },
   "source": [
    "#### Accessing values"
   ]
  },
  {
   "cell_type": "code",
   "execution_count": 17,
   "id": "7f8bd600-d1eb-413d-b041-012603ed271d",
   "metadata": {
    "execution": {
     "iopub.execute_input": "2023-03-19T22:42:06.082626Z",
     "iopub.status.busy": "2023-03-19T22:42:06.081666Z",
     "iopub.status.idle": "2023-03-19T22:42:06.090961Z",
     "shell.execute_reply": "2023-03-19T22:42:06.090111Z",
     "shell.execute_reply.started": "2023-03-19T22:42:06.082580Z"
    },
    "tags": []
   },
   "outputs": [],
   "source": [
    "matrix = [\n",
    "    [1, 2, 3],\n",
    "    [4, 5, 6] ,\n",
    "    [7, 8, 9]\n",
    "]"
   ]
  },
  {
   "cell_type": "code",
   "execution_count": 18,
   "id": "8abca779-601f-4a12-93eb-932dc180206b",
   "metadata": {
    "execution": {
     "iopub.execute_input": "2023-03-19T22:42:11.011427Z",
     "iopub.status.busy": "2023-03-19T22:42:11.010385Z",
     "iopub.status.idle": "2023-03-19T22:42:11.025516Z",
     "shell.execute_reply": "2023-03-19T22:42:11.024530Z",
     "shell.execute_reply.started": "2023-03-19T22:42:11.011365Z"
    }
   },
   "outputs": [
    {
     "data": {
      "text/plain": [
       "[1, 2, 3]"
      ]
     },
     "execution_count": 18,
     "metadata": {},
     "output_type": "execute_result"
    }
   ],
   "source": [
    "matrix[0]"
   ]
  },
  {
   "cell_type": "code",
   "execution_count": 19,
   "id": "0f2316c4-3c7d-476d-a131-74cbe11fe45f",
   "metadata": {
    "execution": {
     "iopub.execute_input": "2023-03-19T22:42:15.505675Z",
     "iopub.status.busy": "2023-03-19T22:42:15.504939Z",
     "iopub.status.idle": "2023-03-19T22:42:15.516697Z",
     "shell.execute_reply": "2023-03-19T22:42:15.515825Z",
     "shell.execute_reply.started": "2023-03-19T22:42:15.505638Z"
    }
   },
   "outputs": [
    {
     "data": {
      "text/plain": [
       "2"
      ]
     },
     "execution_count": 19,
     "metadata": {},
     "output_type": "execute_result"
    }
   ],
   "source": [
    "matrix[0][1]"
   ]
  },
  {
   "cell_type": "code",
   "execution_count": 20,
   "id": "c807f31a-4d8e-459d-8737-e1a5fb4c340a",
   "metadata": {
    "execution": {
     "iopub.execute_input": "2023-03-19T22:42:25.575780Z",
     "iopub.status.busy": "2023-03-19T22:42:25.574709Z",
     "iopub.status.idle": "2023-03-19T22:42:25.588592Z",
     "shell.execute_reply": "2023-03-19T22:42:25.587850Z",
     "shell.execute_reply.started": "2023-03-19T22:42:25.575723Z"
    }
   },
   "outputs": [
    {
     "data": {
      "text/plain": [
       "7"
      ]
     },
     "execution_count": 20,
     "metadata": {},
     "output_type": "execute_result"
    }
   ],
   "source": [
    "matrix[2][0]"
   ]
  },
  {
   "cell_type": "markdown",
   "id": "06fe199f-8b66-4656-9d04-7412e890bf8a",
   "metadata": {},
   "source": [
    "### Representing tic tac toe game as a matrix\n",
    "\n",
    "Let's agree on the following:\n",
    "1. None means the field is empty\n",
    "2. 0 means it's `o`\n",
    "3. 1 means it's `x`"
   ]
  },
  {
   "cell_type": "code",
   "execution_count": 23,
   "id": "e0647737-a902-4d3f-b579-26586aa5169e",
   "metadata": {
    "execution": {
     "iopub.execute_input": "2023-03-19T22:45:05.109927Z",
     "iopub.status.busy": "2023-03-19T22:45:05.108942Z",
     "iopub.status.idle": "2023-03-19T22:45:05.120071Z",
     "shell.execute_reply": "2023-03-19T22:45:05.118400Z",
     "shell.execute_reply.started": "2023-03-19T22:45:05.109874Z"
    },
    "tags": []
   },
   "outputs": [],
   "source": [
    "# example: here 1 is a winner as there are 3 ones on the diagonal\n",
    "game = [\n",
    "    [1, 0, None],\n",
    "    [0, 1, None],\n",
    "    [0, 1, 1]\n",
    "]"
   ]
  },
  {
   "cell_type": "markdown",
   "id": "4d625536-9064-4626-9b8c-eba5efab7f3e",
   "metadata": {},
   "source": [
    "### Is there a winner? And who is it?\n",
    "\n",
    "A winner is defined as a player (`x` or `o`) that has a full row, column or diagonal marked with it's symbol."
   ]
  },
  {
   "cell_type": "code",
   "execution_count": 25,
   "id": "788288c9-1e19-4398-bc42-f81aa5b11345",
   "metadata": {
    "execution": {
     "iopub.execute_input": "2023-03-19T22:46:56.845772Z",
     "iopub.status.busy": "2023-03-19T22:46:56.844776Z",
     "iopub.status.idle": "2023-03-19T22:46:56.858737Z",
     "shell.execute_reply": "2023-03-19T22:46:56.857500Z",
     "shell.execute_reply.started": "2023-03-19T22:46:56.845712Z"
    },
    "tags": []
   },
   "outputs": [],
   "source": [
    "# test scenarios:\n",
    "\n",
    "winner_is_1 = [[1, 1, None],\n",
    "               [1, 0, None],\n",
    "               [1, 0, 0]]\n",
    "\n",
    "winner_is_0 = [[None, 0, 1],\n",
    "               [1, 0, None],\n",
    "               [1, 0, 0]]\n",
    "\n",
    "no_winner = [[0, 1, None],\n",
    "             [1, 0, None],\n",
    "             [1, 0, 1]]"
   ]
  },
  {
   "cell_type": "markdown",
   "id": "15751cf4-1aaf-4e1c-a6d3-e26d207fea74",
   "metadata": {},
   "source": [
    "#### Solution (notes from the lesson)"
   ]
  },
  {
   "cell_type": "code",
   "execution_count": 29,
   "id": "1cd210a8-197c-44ed-aaf8-10894f21abba",
   "metadata": {
    "execution": {
     "iopub.execute_input": "2023-03-19T22:58:58.259489Z",
     "iopub.status.busy": "2023-03-19T22:58:58.258392Z",
     "iopub.status.idle": "2023-03-19T22:58:58.280196Z",
     "shell.execute_reply": "2023-03-19T22:58:58.279319Z",
     "shell.execute_reply.started": "2023-03-19T22:58:58.259427Z"
    },
    "tags": []
   },
   "outputs": [
    {
     "data": {
      "text/plain": [
       "'no winner'"
      ]
     },
     "execution_count": 29,
     "metadata": {},
     "output_type": "execute_result"
    }
   ],
   "source": [
    "def check_rows(board):\n",
    "    board_size = len(board)\n",
    "    for row_index in range(board_size):\n",
    "        row = board[row_index]\n",
    "        first_element_row = row[0]\n",
    "        if len(set(row)) == 1:\n",
    "            if first_element_row == 1:\n",
    "                return 'x wins'\n",
    "            elif first_element_row == 0:\n",
    "                return 'o wins'\n",
    "\n",
    "def check_columns(board):\n",
    "    board_size = len(board)\n",
    "    for column_index in range(board_size):\n",
    "        column = [board[i][column_index] for i in range(board_size)]\n",
    "        first_element_column = column[0]\n",
    "        if len(set(column)) == 1:\n",
    "            if first_element_column == 1:\n",
    "                return 'x wins'\n",
    "            elif first_element_column == 0:\n",
    "                return 'o wins'\n",
    "\n",
    "def check_diagonal(board):\n",
    "    board_size = len(board)\n",
    "    d1 = [board[i][i] for i in range(board_size)]\n",
    "    d2 = [board[i][-i] for i in range(board_size)]\n",
    "    for d in [d1, d2]:\n",
    "        first_element_diagonal = d[0]\n",
    "        if len(set(d)) == 1:\n",
    "            if first_element_diagonal == 1:\n",
    "                return 'x wins'\n",
    "            elif first_element_diagonal == 0:\n",
    "                return 'o wins'\n",
    "\n",
    "def get_winner(board):\n",
    "    rows = check_rows(board)\n",
    "    if rows:\n",
    "        return rows\n",
    "    columns = check_columns(board)\n",
    "    if columns:\n",
    "        return columns\n",
    "    diagonals = check_diagonal(board)\n",
    "    if diagonals:\n",
    "        return diagonals\n",
    "    return 'no winner'\n",
    "    \n",
    "            \n",
    "get_winner(no_winner)"
   ]
  }
 ],
 "metadata": {
  "kernelspec": {
   "display_name": "general",
   "language": "python",
   "name": "general"
  },
  "language_info": {
   "codemirror_mode": {
    "name": "ipython",
    "version": 3
   },
   "file_extension": ".py",
   "mimetype": "text/x-python",
   "name": "python",
   "nbconvert_exporter": "python",
   "pygments_lexer": "ipython3",
   "version": "3.9.9"
  }
 },
 "nbformat": 4,
 "nbformat_minor": 5
}
