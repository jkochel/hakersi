{
 "cells": [
  {
   "cell_type": "markdown",
   "id": "11afd722-ab4b-4b1c-8d6a-16534c042a02",
   "metadata": {},
   "source": [
    "# Hakersi - advanced python\n",
    "mentor: Joanna Kochel (kochel.joanna@gmail.com)\n",
    "\n",
    "## Lesson 2: Basics of python\n",
    "\n",
    "Goal: Understanding concepts of variables and loops and getting familiar with the basic data types."
   ]
  },
  {
   "cell_type": "markdown",
   "id": "08c19238-0281-40ba-a1ef-76ca3223966e",
   "metadata": {},
   "source": [
    "###  Variables\n",
    "\n",
    "In programming, a variable is a container that holds a value. Think of it like a labeled box that you can put things into and take things out of.\n",
    "\n",
    "The value that a variable holds can be anything from a number to a string of text to a more complex data structure like an array or object. When you create a variable, you give it a name so that you can refer to it later in your program."
   ]
  },
  {
   "cell_type": "markdown",
   "id": "3e152406-67a2-49c5-8ea6-b022c38367c8",
   "metadata": {},
   "source": [
    "For example, let's say you want to write a program that calculates the area of a rectangle. You might create two variables, one for the width and one for the height:"
   ]
  },
  {
   "cell_type": "code",
   "execution_count": 1,
   "id": "135256d3-b6ca-48d8-b8fb-c54522bbae76",
   "metadata": {
    "execution": {
     "iopub.execute_input": "2023-03-19T21:13:40.708490Z",
     "iopub.status.busy": "2023-03-19T21:13:40.708057Z",
     "iopub.status.idle": "2023-03-19T21:13:40.716803Z",
     "shell.execute_reply": "2023-03-19T21:13:40.715708Z",
     "shell.execute_reply.started": "2023-03-19T21:13:40.708460Z"
    }
   },
   "outputs": [],
   "source": [
    "width = 5\n",
    "height = 10"
   ]
  },
  {
   "cell_type": "markdown",
   "id": "e8638ad6-5f0c-4cd1-9a09-3382e2b6a855",
   "metadata": {},
   "source": [
    "Then you could use those variables to calculate the area of the rectangle:"
   ]
  },
  {
   "cell_type": "code",
   "execution_count": 2,
   "id": "967e30a7-c57e-4101-83cc-11bf2f5c3076",
   "metadata": {
    "execution": {
     "iopub.execute_input": "2023-03-19T21:13:40.718828Z",
     "iopub.status.busy": "2023-03-19T21:13:40.718661Z",
     "iopub.status.idle": "2023-03-19T21:13:40.721599Z",
     "shell.execute_reply": "2023-03-19T21:13:40.721020Z",
     "shell.execute_reply.started": "2023-03-19T21:13:40.718811Z"
    }
   },
   "outputs": [],
   "source": [
    "area = width * height"
   ]
  },
  {
   "cell_type": "markdown",
   "id": "d4ec9234-ee68-42aa-999f-a87271e201ea",
   "metadata": {},
   "source": [
    "In this example, the variables width and height hold the values 5 and 10, respectively, and the variable area holds the value 50, which is the result of multiplying width and height.\n",
    "\n",
    "Variables are a fundamental building block of programming, and they allow you to store and manipulate data in your programs."
   ]
  },
  {
   "cell_type": "markdown",
   "id": "029736d3-ea71-4ff7-9729-3edfb713a711",
   "metadata": {},
   "source": [
    "### Basic Data types"
   ]
  },
  {
   "cell_type": "markdown",
   "id": "72664335-cb6b-4ba1-bb70-46a45eb584d4",
   "metadata": {
    "execution": {
     "iopub.execute_input": "2023-03-19T19:44:22.135056Z",
     "iopub.status.busy": "2023-03-19T19:44:22.133985Z",
     "iopub.status.idle": "2023-03-19T19:44:22.146473Z",
     "shell.execute_reply": "2023-03-19T19:44:22.141739Z",
     "shell.execute_reply.started": "2023-03-19T19:44:22.134988Z"
    }
   },
   "source": [
    "#### Numeric types"
   ]
  },
  {
   "cell_type": "code",
   "execution_count": 3,
   "id": "07b90fa8-7bab-4c83-8038-f203a74c1bf0",
   "metadata": {
    "execution": {
     "iopub.execute_input": "2023-03-19T21:13:40.722430Z",
     "iopub.status.busy": "2023-03-19T21:13:40.722277Z",
     "iopub.status.idle": "2023-03-19T21:13:40.725505Z",
     "shell.execute_reply": "2023-03-19T21:13:40.725083Z",
     "shell.execute_reply.started": "2023-03-19T21:13:40.722414Z"
    }
   },
   "outputs": [
    {
     "name": "stdout",
     "output_type": "stream",
     "text": [
      "5 <class 'int'>\n",
      "10.5 <class 'float'>\n"
     ]
    }
   ],
   "source": [
    "# integer\n",
    "a = 5\n",
    "print(a, type(a))\n",
    "\n",
    "# float\n",
    "b = 10.5\n",
    "print(b, type(b))"
   ]
  },
  {
   "cell_type": "markdown",
   "id": "ece8958d-279c-40c9-a728-8d93b38c390a",
   "metadata": {
    "execution": {
     "iopub.execute_input": "2023-03-19T19:46:02.978723Z",
     "iopub.status.busy": "2023-03-19T19:46:02.977704Z",
     "iopub.status.idle": "2023-03-19T19:46:02.986491Z",
     "shell.execute_reply": "2023-03-19T19:46:02.985478Z",
     "shell.execute_reply.started": "2023-03-19T19:46:02.978665Z"
    }
   },
   "source": [
    "#### Strings (texts)"
   ]
  },
  {
   "cell_type": "code",
   "execution_count": 4,
   "id": "a97ac716-8efe-424f-945b-76b7e07fabcc",
   "metadata": {
    "execution": {
     "iopub.execute_input": "2023-03-19T21:13:41.511826Z",
     "iopub.status.busy": "2023-03-19T21:13:41.511266Z",
     "iopub.status.idle": "2023-03-19T21:13:41.525668Z",
     "shell.execute_reply": "2023-03-19T21:13:41.524965Z",
     "shell.execute_reply.started": "2023-03-19T21:13:41.511794Z"
    },
    "tags": []
   },
   "outputs": [
    {
     "data": {
      "text/plain": [
       "'Ala ma kota'"
      ]
     },
     "execution_count": 4,
     "metadata": {},
     "output_type": "execute_result"
    }
   ],
   "source": [
    "# Notation in sigle quotation marks\n",
    "text = 'Ala ma kota'\n",
    "text"
   ]
  },
  {
   "cell_type": "code",
   "execution_count": 5,
   "id": "aa14f956-0bda-42d5-8c2a-e2f2a0e22dd1",
   "metadata": {
    "execution": {
     "iopub.execute_input": "2023-03-19T21:13:41.672542Z",
     "iopub.status.busy": "2023-03-19T21:13:41.672094Z",
     "iopub.status.idle": "2023-03-19T21:13:41.680652Z",
     "shell.execute_reply": "2023-03-19T21:13:41.680042Z",
     "shell.execute_reply.started": "2023-03-19T21:13:41.672509Z"
    },
    "tags": []
   },
   "outputs": [
    {
     "data": {
      "text/plain": [
       "'Ala ma kota'"
      ]
     },
     "execution_count": 5,
     "metadata": {},
     "output_type": "execute_result"
    }
   ],
   "source": [
    "# or in double ones\n",
    "text = \"Ala ma kota\"\n",
    "text"
   ]
  },
  {
   "cell_type": "code",
   "execution_count": 6,
   "id": "50cf839a-b256-471b-bbfc-f49360c612cb",
   "metadata": {
    "execution": {
     "iopub.execute_input": "2023-03-19T21:13:41.843752Z",
     "iopub.status.busy": "2023-03-19T21:13:41.842895Z",
     "iopub.status.idle": "2023-03-19T21:13:41.855379Z",
     "shell.execute_reply": "2023-03-19T21:13:41.854545Z",
     "shell.execute_reply.started": "2023-03-19T21:13:41.843708Z"
    },
    "tags": []
   },
   "outputs": [
    {
     "data": {
      "text/plain": [
       "'Ala ma kota'"
      ]
     },
     "execution_count": 6,
     "metadata": {},
     "output_type": "execute_result"
    }
   ],
   "source": [
    "# Or in triple double ones\n",
    "text = \"\"\"Ala ma kota\"\"\"\n",
    "text"
   ]
  },
  {
   "cell_type": "code",
   "execution_count": 7,
   "id": "7528d1da-a586-4ff9-9e16-688c245b4947",
   "metadata": {
    "execution": {
     "iopub.execute_input": "2023-03-19T21:13:42.025643Z",
     "iopub.status.busy": "2023-03-19T21:13:42.024625Z",
     "iopub.status.idle": "2023-03-19T21:13:42.039226Z",
     "shell.execute_reply": "2023-03-19T21:13:42.038481Z",
     "shell.execute_reply.started": "2023-03-19T21:13:42.025593Z"
    }
   },
   "outputs": [
    {
     "data": {
      "text/plain": [
       "'Ala ma kota'"
      ]
     },
     "execution_count": 7,
     "metadata": {},
     "output_type": "execute_result"
    }
   ],
   "source": [
    "# Or in triple single ones\n",
    "text = '''Ala ma kota'''\n",
    "text"
   ]
  },
  {
   "cell_type": "code",
   "execution_count": 8,
   "id": "8d3b5ca1-e7f2-472c-9c91-3ab529750f8d",
   "metadata": {
    "execution": {
     "iopub.execute_input": "2023-03-19T21:13:42.182705Z",
     "iopub.status.busy": "2023-03-19T21:13:42.182089Z",
     "iopub.status.idle": "2023-03-19T21:13:42.191890Z",
     "shell.execute_reply": "2023-03-19T21:13:42.190836Z",
     "shell.execute_reply.started": "2023-03-19T21:13:42.182663Z"
    },
    "tags": []
   },
   "outputs": [
    {
     "name": "stdout",
     "output_type": "stream",
     "text": [
      "Ala \n",
      "ma \n",
      "kota\n"
     ]
    }
   ],
   "source": [
    "# and even multilines\n",
    "text = '''Ala \n",
    "ma \n",
    "kota'''\n",
    "print(text)"
   ]
  },
  {
   "cell_type": "markdown",
   "id": "ba9b9e29-eec3-4378-a04b-5ab917506635",
   "metadata": {},
   "source": [
    "**Choose whatever you like, but keep it as consistent as possible!**"
   ]
  },
  {
   "cell_type": "code",
   "execution_count": 9,
   "id": "fc04f211-9e21-4979-8ff4-5b2475259bf1",
   "metadata": {
    "execution": {
     "iopub.execute_input": "2023-03-19T21:13:42.605546Z",
     "iopub.status.busy": "2023-03-19T21:13:42.604622Z",
     "iopub.status.idle": "2023-03-19T21:13:42.617261Z",
     "shell.execute_reply": "2023-03-19T21:13:42.616279Z",
     "shell.execute_reply.started": "2023-03-19T21:13:42.605454Z"
    },
    "tags": []
   },
   "outputs": [
    {
     "data": {
      "text/plain": [
       "'My name is Chris'"
      ]
     },
     "execution_count": 9,
     "metadata": {},
     "output_type": "execute_result"
    }
   ],
   "source": [
    "# Strings addtions\n",
    "'My ' + 'name ' + 'is ' + \"Chris\""
   ]
  },
  {
   "cell_type": "code",
   "execution_count": 10,
   "id": "d5d7bfff-1824-4b39-a8d0-50580eb4878b",
   "metadata": {
    "execution": {
     "iopub.execute_input": "2023-03-19T21:13:42.818486Z",
     "iopub.status.busy": "2023-03-19T21:13:42.817771Z",
     "iopub.status.idle": "2023-03-19T21:13:42.826282Z",
     "shell.execute_reply": "2023-03-19T21:13:42.825529Z",
     "shell.execute_reply.started": "2023-03-19T21:13:42.818414Z"
    }
   },
   "outputs": [
    {
     "data": {
      "text/plain": [
       "'I wanna be double I wanna be double '"
      ]
     },
     "execution_count": 10,
     "metadata": {},
     "output_type": "execute_result"
    }
   ],
   "source": [
    "# Strings multiplication\n",
    "'I wanna be double ' * 2"
   ]
  },
  {
   "cell_type": "code",
   "execution_count": 11,
   "id": "408591cd-0ab6-4784-95cd-e52453347545",
   "metadata": {
    "execution": {
     "iopub.execute_input": "2023-03-19T21:13:43.034740Z",
     "iopub.status.busy": "2023-03-19T21:13:43.034119Z",
     "iopub.status.idle": "2023-03-19T21:13:43.051306Z",
     "shell.execute_reply": "2023-03-19T21:13:43.050548Z",
     "shell.execute_reply.started": "2023-03-19T21:13:43.034704Z"
    }
   },
   "outputs": [
    {
     "data": {
      "text/plain": [
       "'AaAaAa it will be a long text AaAaAaAaAa'"
      ]
     },
     "execution_count": 11,
     "metadata": {},
     "output_type": "execute_result"
    }
   ],
   "source": [
    "# multiple operations at the same time\n",
    "text = 'Aa'\n",
    "text * 3 + ' it will be a long text ' + text * 5"
   ]
  },
  {
   "cell_type": "code",
   "execution_count": 12,
   "id": "ca7dd6fc-3c91-4c3f-bf33-677636646fcd",
   "metadata": {
    "execution": {
     "iopub.execute_input": "2023-03-19T21:13:43.264957Z",
     "iopub.status.busy": "2023-03-19T21:13:43.264300Z",
     "iopub.status.idle": "2023-03-19T21:13:43.393038Z",
     "shell.execute_reply": "2023-03-19T21:13:43.392483Z",
     "shell.execute_reply.started": "2023-03-19T21:13:43.264927Z"
    },
    "tags": []
   },
   "outputs": [
    {
     "ename": "TypeError",
     "evalue": "sequence item 0: expected str instance, int found",
     "output_type": "error",
     "traceback": [
      "\u001b[0;31m---------------------------------------------------------------------------\u001b[0m",
      "\u001b[0;31mTypeError\u001b[0m                                 Traceback (most recent call last)",
      "Cell \u001b[0;32mIn[12], line 3\u001b[0m\n\u001b[1;32m      1\u001b[0m \u001b[38;5;66;03m# connecting different things using strings\u001b[39;00m\n\u001b[1;32m      2\u001b[0m test_list \u001b[38;5;241m=\u001b[39m [\u001b[38;5;241m1\u001b[39m ,\u001b[38;5;241m2\u001b[39m, \u001b[38;5;241m3\u001b[39m, \u001b[38;5;241m4\u001b[39m, \u001b[38;5;241m5\u001b[39m, \u001b[38;5;241m10\u001b[39m]\n\u001b[0;32m----> 3\u001b[0m \u001b[38;5;124;43m\"\u001b[39;49m\u001b[38;5;124;43mveeery long text\u001b[39;49m\u001b[38;5;124;43m\"\u001b[39;49m\u001b[38;5;241;43m.\u001b[39;49m\u001b[43mjoin\u001b[49m\u001b[43m(\u001b[49m\u001b[43m[\u001b[49m\u001b[43mi\u001b[49m\u001b[43m \u001b[49m\u001b[38;5;28;43;01mfor\u001b[39;49;00m\u001b[43m \u001b[49m\u001b[43mi\u001b[49m\u001b[43m \u001b[49m\u001b[38;5;129;43;01min\u001b[39;49;00m\u001b[43m \u001b[49m\u001b[43mtest_list\u001b[49m\u001b[43m]\u001b[49m\u001b[43m)\u001b[49m \n",
      "\u001b[0;31mTypeError\u001b[0m: sequence item 0: expected str instance, int found"
     ]
    }
   ],
   "source": [
    "# connecting different things using strings\n",
    "test_list = [1 ,2, 3, 4, 5, 10]\n",
    "\"veeery long text\".join([i for i in test_list]) "
   ]
  },
  {
   "cell_type": "markdown",
   "id": "b642b815-1a57-45db-8ec9-a0ea9fb1e9ac",
   "metadata": {},
   "source": [
    "**Casting!**"
   ]
  },
  {
   "cell_type": "code",
   "execution_count": 13,
   "id": "54d2d9a5-7b32-47d8-baac-80158f8ddca8",
   "metadata": {
    "execution": {
     "iopub.execute_input": "2023-03-19T21:13:45.326938Z",
     "iopub.status.busy": "2023-03-19T21:13:45.326178Z",
     "iopub.status.idle": "2023-03-19T21:13:45.342205Z",
     "shell.execute_reply": "2023-03-19T21:13:45.341237Z",
     "shell.execute_reply.started": "2023-03-19T21:13:45.326895Z"
    },
    "tags": []
   },
   "outputs": [
    {
     "data": {
      "text/plain": [
       "'1veeery long text2veeery long text3veeery long text4veeery long text5veeery long text10'"
      ]
     },
     "execution_count": 13,
     "metadata": {},
     "output_type": "execute_result"
    }
   ],
   "source": [
    "\"veeery long text\".join([str(i) for i in test_list]) "
   ]
  },
  {
   "cell_type": "code",
   "execution_count": 14,
   "id": "703f15bb-ce55-4f96-b088-ebd8d25012fb",
   "metadata": {
    "execution": {
     "iopub.execute_input": "2023-03-19T21:13:47.103585Z",
     "iopub.status.busy": "2023-03-19T21:13:47.102835Z",
     "iopub.status.idle": "2023-03-19T21:13:47.116078Z",
     "shell.execute_reply": "2023-03-19T21:13:47.115214Z",
     "shell.execute_reply.started": "2023-03-19T21:13:47.103547Z"
    }
   },
   "outputs": [
    {
     "data": {
      "text/plain": [
       "'wdwcw.'"
      ]
     },
     "execution_count": 14,
     "metadata": {},
     "output_type": "execute_result"
    }
   ],
   "source": [
    "# removing \"white signs\" from around the text\n",
    "text2 = \"    wdwcw.    \"\n",
    "text2.strip()"
   ]
  },
  {
   "cell_type": "code",
   "execution_count": 15,
   "id": "c09acb1c-b154-4605-851c-d2df4571d077",
   "metadata": {
    "execution": {
     "iopub.execute_input": "2023-03-19T21:13:47.700635Z",
     "iopub.status.busy": "2023-03-19T21:13:47.699483Z",
     "iopub.status.idle": "2023-03-19T21:13:47.713563Z",
     "shell.execute_reply": "2023-03-19T21:13:47.712800Z",
     "shell.execute_reply.started": "2023-03-19T21:13:47.700571Z"
    }
   },
   "outputs": [
    {
     "data": {
      "text/plain": [
       "'    WDWCW.    '"
      ]
     },
     "execution_count": 15,
     "metadata": {},
     "output_type": "execute_result"
    }
   ],
   "source": [
    "# switching to upper case\n",
    "text2 = \"    wdwcw.    \"\n",
    "text2.upper()"
   ]
  },
  {
   "cell_type": "code",
   "execution_count": 16,
   "id": "6fae6763-ae38-43fd-ab00-466bf4d1ec71",
   "metadata": {
    "execution": {
     "iopub.execute_input": "2023-03-19T21:13:50.580959Z",
     "iopub.status.busy": "2023-03-19T21:13:50.580179Z",
     "iopub.status.idle": "2023-03-19T21:13:50.593510Z",
     "shell.execute_reply": "2023-03-19T21:13:50.592338Z",
     "shell.execute_reply.started": "2023-03-19T21:13:50.580915Z"
    }
   },
   "outputs": [
    {
     "data": {
      "text/plain": [
       "'    wcshdhjdwcw.    '"
      ]
     },
     "execution_count": 16,
     "metadata": {},
     "output_type": "execute_result"
    }
   ],
   "source": [
    "# switching to lower case\n",
    "text2 = \"    wcSHDHJDwcw.    \"\n",
    "text2.lower()"
   ]
  },
  {
   "cell_type": "code",
   "execution_count": 17,
   "id": "3eeac593-1054-4c06-b393-4e783cf12df6",
   "metadata": {
    "execution": {
     "iopub.execute_input": "2023-03-19T21:13:50.845148Z",
     "iopub.status.busy": "2023-03-19T21:13:50.844397Z",
     "iopub.status.idle": "2023-03-19T21:13:50.855791Z",
     "shell.execute_reply": "2023-03-19T21:13:50.855064Z",
     "shell.execute_reply.started": "2023-03-19T21:13:50.845100Z"
    }
   },
   "outputs": [
    {
     "data": {
      "text/plain": [
       "['gsgs', 'sjsjs', 'sksjs']"
      ]
     },
     "execution_count": 17,
     "metadata": {},
     "output_type": "execute_result"
    }
   ],
   "source": [
    "# splitting text and storing in a list\n",
    "text3 = \"gsgs,sjsjs,sksjs\"\n",
    "text3.split(',')"
   ]
  },
  {
   "cell_type": "code",
   "execution_count": 18,
   "id": "7fa372c2-54bd-42da-895c-b21195049bbc",
   "metadata": {
    "execution": {
     "iopub.execute_input": "2023-03-19T21:13:51.084072Z",
     "iopub.status.busy": "2023-03-19T21:13:51.083105Z",
     "iopub.status.idle": "2023-03-19T21:13:51.095556Z",
     "shell.execute_reply": "2023-03-19T21:13:51.094167Z",
     "shell.execute_reply.started": "2023-03-19T21:13:51.084010Z"
    }
   },
   "outputs": [
    {
     "data": {
      "text/plain": [
       "['g', 'g', ',', 'j', 'j', ',', 'k', 'j', '']"
      ]
     },
     "execution_count": 18,
     "metadata": {},
     "output_type": "execute_result"
    }
   ],
   "source": [
    "text3 = \"gsgs,sjsjs,sksjs\"\n",
    "text3.split('s')"
   ]
  },
  {
   "cell_type": "code",
   "execution_count": 19,
   "id": "9fda7036-3efb-4a73-933b-23d529afb357",
   "metadata": {
    "execution": {
     "iopub.execute_input": "2023-03-19T21:13:51.266633Z",
     "iopub.status.busy": "2023-03-19T21:13:51.265944Z",
     "iopub.status.idle": "2023-03-19T21:13:51.278522Z",
     "shell.execute_reply": "2023-03-19T21:13:51.277645Z",
     "shell.execute_reply.started": "2023-03-19T21:13:51.266594Z"
    },
    "tags": []
   },
   "outputs": [
    {
     "data": {
      "text/plain": [
       "'Joanna moved to France in the year 2017. Her monthly rent was 944.0 and her monthly expenses were 25'"
      ]
     },
     "execution_count": 19,
     "metadata": {},
     "output_type": "execute_result"
    }
   ],
   "source": [
    "# f-strings\n",
    "year = 2017\n",
    "rent = 943.98\n",
    "name = \"Joanna\"\n",
    "expenses = [1,2,3,4,5,10]\n",
    "\n",
    "# You need to use the letter 'f' before quotation marks, and then you can use variables in the text. After the colon (:) we can decide what format we want to use.\"\n",
    "f\"{name} moved to France in the year {year}. Her monthly rent was {rent:.1f} and her monthly expenses were {sum(expenses)}\" # change the places after comma in rent\n"
   ]
  },
  {
   "cell_type": "markdown",
   "id": "7abb1165-ff28-4445-9c75-835e75c35a21",
   "metadata": {},
   "source": [
    "#### Lists\n",
    "\n",
    "A list is a type of data structure that allows you to store a collection of items in a single variable. In Python, a list is a type of data structure that allows you to store a collection of items in a single variable. "
   ]
  },
  {
   "cell_type": "code",
   "execution_count": 20,
   "id": "36050a39-76cc-420b-a366-942b029549b4",
   "metadata": {
    "execution": {
     "iopub.execute_input": "2023-03-19T21:13:51.634515Z",
     "iopub.status.busy": "2023-03-19T21:13:51.633707Z",
     "iopub.status.idle": "2023-03-19T21:13:51.648749Z",
     "shell.execute_reply": "2023-03-19T21:13:51.647433Z",
     "shell.execute_reply.started": "2023-03-19T21:13:51.634480Z"
    }
   },
   "outputs": [
    {
     "data": {
      "text/plain": [
       "[1, 2, 3, 3, 3]"
      ]
     },
     "execution_count": 20,
     "metadata": {},
     "output_type": "execute_result"
    }
   ],
   "source": [
    "test_list = [1, 2, 3, 3, 3]\n",
    "test_list"
   ]
  },
  {
   "cell_type": "markdown",
   "id": "df4682af-d661-456f-b6ab-5093201b3a34",
   "metadata": {},
   "source": [
    "**`range()` by default goes from 0 to the number-1**"
   ]
  },
  {
   "cell_type": "code",
   "execution_count": 21,
   "id": "b95f18b1-471f-4ff3-9b12-b3dbea40df70",
   "metadata": {
    "execution": {
     "iopub.execute_input": "2023-03-19T21:13:52.015230Z",
     "iopub.status.busy": "2023-03-19T21:13:52.014695Z",
     "iopub.status.idle": "2023-03-19T21:13:52.027379Z",
     "shell.execute_reply": "2023-03-19T21:13:52.026565Z",
     "shell.execute_reply.started": "2023-03-19T21:13:52.015199Z"
    }
   },
   "outputs": [
    {
     "data": {
      "text/plain": [
       "[0, 1, 2, 3, 4]"
      ]
     },
     "execution_count": 21,
     "metadata": {},
     "output_type": "execute_result"
    }
   ],
   "source": [
    "list(range(5))"
   ]
  },
  {
   "cell_type": "code",
   "execution_count": 22,
   "id": "fd5b7372-6aa9-4ac9-95e1-e667ee96dbe7",
   "metadata": {
    "execution": {
     "iopub.execute_input": "2023-03-19T21:13:52.224611Z",
     "iopub.status.busy": "2023-03-19T21:13:52.223459Z",
     "iopub.status.idle": "2023-03-19T21:13:52.235060Z",
     "shell.execute_reply": "2023-03-19T21:13:52.233514Z",
     "shell.execute_reply.started": "2023-03-19T21:13:52.224571Z"
    }
   },
   "outputs": [
    {
     "data": {
      "text/plain": [
       "[1, 2, 3, 4, 5, 6, 7, 8, 9]"
      ]
     },
     "execution_count": 22,
     "metadata": {},
     "output_type": "execute_result"
    }
   ],
   "source": [
    "list(range(1, 10))"
   ]
  },
  {
   "cell_type": "code",
   "execution_count": 23,
   "id": "3e5c60cb-5e49-4952-ae73-7cbd10d88e5e",
   "metadata": {
    "execution": {
     "iopub.execute_input": "2023-03-19T21:13:52.469823Z",
     "iopub.status.busy": "2023-03-19T21:13:52.469336Z",
     "iopub.status.idle": "2023-03-19T21:13:52.480717Z",
     "shell.execute_reply": "2023-03-19T21:13:52.479811Z",
     "shell.execute_reply.started": "2023-03-19T21:13:52.469790Z"
    }
   },
   "outputs": [
    {
     "data": {
      "text/plain": [
       "[1, 3, 5, 7, 9]"
      ]
     },
     "execution_count": 23,
     "metadata": {},
     "output_type": "execute_result"
    }
   ],
   "source": [
    "list(range(1, 10, 2))"
   ]
  },
  {
   "cell_type": "code",
   "execution_count": 24,
   "id": "16bb18b5-5984-4309-a26f-8638f151794e",
   "metadata": {
    "execution": {
     "iopub.execute_input": "2023-03-19T21:13:52.743175Z",
     "iopub.status.busy": "2023-03-19T21:13:52.742353Z",
     "iopub.status.idle": "2023-03-19T21:13:52.760353Z",
     "shell.execute_reply": "2023-03-19T21:13:52.758133Z",
     "shell.execute_reply.started": "2023-03-19T21:13:52.743135Z"
    }
   },
   "outputs": [
    {
     "data": {
      "text/plain": [
       "['a', 'very long text\\nand here', 1, 1.44]"
      ]
     },
     "execution_count": 24,
     "metadata": {},
     "output_type": "execute_result"
    }
   ],
   "source": [
    "test_list = ['a', \"\"\"very long text\n",
    "and here\"\"\", 1, 1.44]\n",
    "test_list"
   ]
  },
  {
   "cell_type": "markdown",
   "id": "a0f22d76-07f5-41c0-b8b4-e5960089002e",
   "metadata": {},
   "source": [
    "#### Sets\n",
    "Set is an unordered collection of unique items. This means that the order in which the items are added is not preserved, and each item in a set must be unique."
   ]
  },
  {
   "cell_type": "code",
   "execution_count": 25,
   "id": "c7a069d2-8c2b-4632-ae30-3c2b4bc93d9d",
   "metadata": {
    "execution": {
     "iopub.execute_input": "2023-03-19T21:13:53.202056Z",
     "iopub.status.busy": "2023-03-19T21:13:53.201237Z",
     "iopub.status.idle": "2023-03-19T21:13:53.216955Z",
     "shell.execute_reply": "2023-03-19T21:13:53.216183Z",
     "shell.execute_reply.started": "2023-03-19T21:13:53.202019Z"
    },
    "tags": []
   },
   "outputs": [
    {
     "name": "stdout",
     "output_type": "stream",
     "text": [
      "[30, 10, 1, 1, 2, 7, 7]\n"
     ]
    },
    {
     "data": {
      "text/plain": [
       "{1, 2, 7, 10, 30}"
      ]
     },
     "execution_count": 25,
     "metadata": {},
     "output_type": "execute_result"
    }
   ],
   "source": [
    "test_list = [30, 10, 1, 1, 2, 7, 7]\n",
    "print(test_list)\n",
    "test_set = set(test_list)\n",
    "test_set"
   ]
  },
  {
   "cell_type": "markdown",
   "id": "3878b766-4e08-4381-ad1c-c40867ce2592",
   "metadata": {},
   "source": [
    "####  Dicts\n",
    "\n",
    "Dictionary uses key-value pairs to represent data. You can think of a dictionary as a mapping between keys and values, similar to a real-world dictionary that maps words to their definitions."
   ]
  },
  {
   "cell_type": "code",
   "execution_count": 26,
   "id": "3694a7d2-5b8d-43cb-8128-64ba97bb704d",
   "metadata": {
    "execution": {
     "iopub.execute_input": "2023-03-19T21:13:53.718723Z",
     "iopub.status.busy": "2023-03-19T21:13:53.717458Z",
     "iopub.status.idle": "2023-03-19T21:13:53.732203Z",
     "shell.execute_reply": "2023-03-19T21:13:53.730521Z",
     "shell.execute_reply.started": "2023-03-19T21:13:53.718674Z"
    }
   },
   "outputs": [
    {
     "data": {
      "text/plain": [
       "'value1'"
      ]
     },
     "execution_count": 26,
     "metadata": {},
     "output_type": "execute_result"
    }
   ],
   "source": [
    "dict1 = {\n",
    "    'key1': 'value1',\n",
    "    'key2': 'value2'\n",
    "} \n",
    "\n",
    "dict1['key1']"
   ]
  },
  {
   "cell_type": "code",
   "execution_count": 27,
   "id": "d7512667-cbd7-4b6c-97e3-36313e129a26",
   "metadata": {
    "execution": {
     "iopub.execute_input": "2023-03-19T21:13:53.987146Z",
     "iopub.status.busy": "2023-03-19T21:13:53.986356Z",
     "iopub.status.idle": "2023-03-19T21:13:53.999556Z",
     "shell.execute_reply": "2023-03-19T21:13:53.998375Z",
     "shell.execute_reply.started": "2023-03-19T21:13:53.987101Z"
    }
   },
   "outputs": [],
   "source": [
    "dict2 = {\n",
    "    'key1': 'value1',\n",
    "    'key2': [1, 2, 3],\n",
    "    'key3': {\n",
    "        'key1': 'value1',\n",
    "        'key2': 'value2'\n",
    "    },\n",
    "    'key1': 5\n",
    "} \n",
    "# keys always need to be unique, by default it takes the last seen one"
   ]
  },
  {
   "cell_type": "code",
   "execution_count": 28,
   "id": "0c1cab5b-fbab-4bb0-9c9e-3c4a33f15946",
   "metadata": {
    "execution": {
     "iopub.execute_input": "2023-03-19T21:13:54.452553Z",
     "iopub.status.busy": "2023-03-19T21:13:54.451609Z",
     "iopub.status.idle": "2023-03-19T21:13:54.466692Z",
     "shell.execute_reply": "2023-03-19T21:13:54.465651Z",
     "shell.execute_reply.started": "2023-03-19T21:13:54.452516Z"
    }
   },
   "outputs": [
    {
     "data": {
      "text/plain": [
       "{'key1': 5, 'key2': [1, 2, 3], 'key3': {'key1': 'value1', 'key2': 'value2'}}"
      ]
     },
     "execution_count": 28,
     "metadata": {},
     "output_type": "execute_result"
    }
   ],
   "source": [
    "# key1 has a value 5 and not \"value1\"\n",
    "dict2"
   ]
  },
  {
   "cell_type": "markdown",
   "id": "b37ec1c7-470b-410d-9c71-fecac37cd817",
   "metadata": {},
   "source": [
    "### Loops"
   ]
  },
  {
   "cell_type": "markdown",
   "id": "94a4ad0b-0721-4955-9c8d-78a8c7539deb",
   "metadata": {},
   "source": [
    "#### for loop"
   ]
  },
  {
   "cell_type": "markdown",
   "id": "25268c67-b412-4899-8e8b-4f8c9a4505d5",
   "metadata": {},
   "source": [
    "![Image](img/for_loop.png)"
   ]
  },
  {
   "cell_type": "code",
   "execution_count": 29,
   "id": "78f0fd08-4b32-4d2f-b586-272be0764abf",
   "metadata": {
    "execution": {
     "iopub.execute_input": "2023-03-19T21:13:55.412487Z",
     "iopub.status.busy": "2023-03-19T21:13:55.411722Z",
     "iopub.status.idle": "2023-03-19T21:13:55.422187Z",
     "shell.execute_reply": "2023-03-19T21:13:55.418654Z",
     "shell.execute_reply.started": "2023-03-19T21:13:55.412439Z"
    }
   },
   "outputs": [
    {
     "name": "stdout",
     "output_type": "stream",
     "text": [
      "1\n",
      "2\n",
      "3\n",
      "t\n",
      "a\n"
     ]
    }
   ],
   "source": [
    "# \"iterating\" over a list\n",
    "list1 = [1, 2, 3, 't', 'a']\n",
    "for i in list1:\n",
    "    print(i)"
   ]
  },
  {
   "cell_type": "code",
   "execution_count": 30,
   "id": "3ea8bffc-a87a-4267-847c-fc9fa0260c24",
   "metadata": {
    "execution": {
     "iopub.execute_input": "2023-03-19T21:13:55.705027Z",
     "iopub.status.busy": "2023-03-19T21:13:55.704111Z",
     "iopub.status.idle": "2023-03-19T21:13:55.720839Z",
     "shell.execute_reply": "2023-03-19T21:13:55.719679Z",
     "shell.execute_reply.started": "2023-03-19T21:13:55.704967Z"
    }
   },
   "outputs": [
    {
     "name": "stdout",
     "output_type": "stream",
     "text": [
      "0\n",
      "1\n",
      "2\n",
      "3\n",
      "4\n"
     ]
    }
   ],
   "source": [
    "# iterating over numbers in a range\n",
    "for i in range(5):\n",
    "    print(i)"
   ]
  },
  {
   "cell_type": "code",
   "execution_count": 31,
   "id": "be0cd941-e370-47c7-b483-e6b5461da3a4",
   "metadata": {
    "execution": {
     "iopub.execute_input": "2023-03-19T21:13:56.051764Z",
     "iopub.status.busy": "2023-03-19T21:13:56.051355Z",
     "iopub.status.idle": "2023-03-19T21:13:56.061408Z",
     "shell.execute_reply": "2023-03-19T21:13:56.060568Z",
     "shell.execute_reply.started": "2023-03-19T21:13:56.051735Z"
    }
   },
   "outputs": [
    {
     "name": "stdout",
     "output_type": "stream",
     "text": [
      "1\n",
      "2\n",
      "3\n",
      "3\n",
      "1\n"
     ]
    }
   ],
   "source": [
    "# magic keywords: break, continue\n",
    "list1 = [1, 2, 3, 4, 5, 3, 1]\n",
    "for i in list1:\n",
    "    if i <= 3:\n",
    "        print(i)"
   ]
  },
  {
   "cell_type": "code",
   "execution_count": 32,
   "id": "d301f7e9-1719-413d-a838-f03ad73ce3a5",
   "metadata": {
    "execution": {
     "iopub.execute_input": "2023-03-19T21:13:56.536413Z",
     "iopub.status.busy": "2023-03-19T21:13:56.534704Z",
     "iopub.status.idle": "2023-03-19T21:13:56.550237Z",
     "shell.execute_reply": "2023-03-19T21:13:56.549356Z",
     "shell.execute_reply.started": "2023-03-19T21:13:56.536340Z"
    },
    "tags": []
   },
   "outputs": [
    {
     "name": "stdout",
     "output_type": "stream",
     "text": [
      "1\n",
      "2\n",
      "3\n",
      "4 or 5\n",
      "4 or 5\n",
      "3\n",
      "1\n",
      "4 or 5\n"
     ]
    }
   ],
   "source": [
    "list1 = [1, 2, 3, 4, 5, 3, 1, 5, 7, 10, 1, 3]\n",
    "for i in list1:\n",
    "    if i <= 3:\n",
    "        print(i)\n",
    "    elif i <= 5:\n",
    "        print('4 or 5')\n",
    "    else:\n",
    "        # stop the loop with the first number bigger than 5\n",
    "        break"
   ]
  },
  {
   "cell_type": "code",
   "execution_count": 33,
   "id": "0f29e068-df98-4690-846d-c6a689a8a0ed",
   "metadata": {
    "execution": {
     "iopub.execute_input": "2023-03-19T21:13:56.792268Z",
     "iopub.status.busy": "2023-03-19T21:13:56.791449Z",
     "iopub.status.idle": "2023-03-19T21:13:56.804349Z",
     "shell.execute_reply": "2023-03-19T21:13:56.803379Z",
     "shell.execute_reply.started": "2023-03-19T21:13:56.792229Z"
    },
    "tags": []
   },
   "outputs": [
    {
     "name": "stdout",
     "output_type": "stream",
     "text": [
      "1\n",
      "it was less than 3!\n",
      "2\n",
      "it was less than 3!\n",
      "3\n",
      "it was less than 3!\n",
      "4\n",
      "5\n",
      "10\n"
     ]
    }
   ],
   "source": [
    "list1 = [1, 2, 3, 4, 5, 10]\n",
    "for i in list1:\n",
    "    if i <= 3:\n",
    "        print(i)\n",
    "    else:\n",
    "        print(i)\n",
    "        continue # Don't do anything that is after 'continue' for the current 'i'; the line below does not execute for 'i' greater than 3.\n",
    "    print('it was less than 3!')"
   ]
  },
  {
   "cell_type": "code",
   "execution_count": 34,
   "id": "211f78df-fadb-4afb-b907-20319ad36e3f",
   "metadata": {
    "execution": {
     "iopub.execute_input": "2023-03-19T21:13:57.343285Z",
     "iopub.status.busy": "2023-03-19T21:13:57.342150Z",
     "iopub.status.idle": "2023-03-19T21:13:57.357324Z",
     "shell.execute_reply": "2023-03-19T21:13:57.356089Z",
     "shell.execute_reply.started": "2023-03-19T21:13:57.343226Z"
    }
   },
   "outputs": [
    {
     "data": {
      "text/plain": [
       "[2, 4, 6, 8, 10, 12, 14, 16, 20]"
      ]
     },
     "execution_count": 34,
     "metadata": {},
     "output_type": "execute_result"
    }
   ],
   "source": [
    "# append\n",
    "list1 = [1, 2, 3, 4, 5, 6, 7, 8, 10]\n",
    "list2 = []\n",
    "for i in list1:\n",
    "    i = i * 2 # \"python\" alternative: i *= 2\n",
    "    list2.append(i)\n",
    "list2"
   ]
  },
  {
   "cell_type": "code",
   "execution_count": 35,
   "id": "ee8a3a44-e8df-4977-b493-92781cd2a926",
   "metadata": {
    "execution": {
     "iopub.execute_input": "2023-03-19T21:13:57.722406Z",
     "iopub.status.busy": "2023-03-19T21:13:57.721922Z",
     "iopub.status.idle": "2023-03-19T21:13:57.736116Z",
     "shell.execute_reply": "2023-03-19T21:13:57.734035Z",
     "shell.execute_reply.started": "2023-03-19T21:13:57.722366Z"
    }
   },
   "outputs": [
    {
     "data": {
      "text/plain": [
       "[0, 1, 2, 3, 4]"
      ]
     },
     "execution_count": 35,
     "metadata": {},
     "output_type": "execute_result"
    }
   ],
   "source": [
    "test_list = []\n",
    "for i in range(5):\n",
    "    # alternatives to append:\n",
    "    # test_list = test_list + [i]\n",
    "    # test_list += [i] \n",
    "    test_list.append(i)\n",
    "test_list"
   ]
  },
  {
   "cell_type": "code",
   "execution_count": 36,
   "id": "1c77b330-24de-41d5-9649-9d56e187f5a7",
   "metadata": {
    "execution": {
     "iopub.execute_input": "2023-03-19T21:13:58.252784Z",
     "iopub.status.busy": "2023-03-19T21:13:58.250981Z",
     "iopub.status.idle": "2023-03-19T21:13:58.267042Z",
     "shell.execute_reply": "2023-03-19T21:13:58.266227Z",
     "shell.execute_reply.started": "2023-03-19T21:13:58.252663Z"
    }
   },
   "outputs": [
    {
     "data": {
      "text/plain": [
       "[2, 4, 6, 8, 10, 12, 14, 16, 20]"
      ]
     },
     "execution_count": 36,
     "metadata": {},
     "output_type": "execute_result"
    }
   ],
   "source": [
    "# list comprehension for the example above\n",
    "list1 = [1, 2, 3, 4, 5, 6, 7, 8, 10]\n",
    "\n",
    "list2 = [i * 2 for i in list1]\n",
    "list2"
   ]
  },
  {
   "cell_type": "code",
   "execution_count": 37,
   "id": "07516398-85a0-4e82-8266-c78dabbf44d9",
   "metadata": {
    "execution": {
     "iopub.execute_input": "2023-03-19T21:13:58.588877Z",
     "iopub.status.busy": "2023-03-19T21:13:58.588295Z",
     "iopub.status.idle": "2023-03-19T21:13:58.603360Z",
     "shell.execute_reply": "2023-03-19T21:13:58.602532Z",
     "shell.execute_reply.started": "2023-03-19T21:13:58.588830Z"
    },
    "tags": []
   },
   "outputs": [
    {
     "data": {
      "text/plain": [
       "[0, 1, 3, 6, 10, 15, 21, 28, 45]"
      ]
     },
     "execution_count": 37,
     "metadata": {},
     "output_type": "execute_result"
    }
   ],
   "source": [
    "# more complex list comprehension\n",
    "list1 = [1, 2, 3, 4, 5, 6, 7, 8, 10]\n",
    "\n",
    "list2 = [sum(range(i)) for i in list1]\n",
    "list2"
   ]
  },
  {
   "cell_type": "markdown",
   "id": "4fc531d0-1795-41d8-a0ae-c9715fc7ffb1",
   "metadata": {},
   "source": [
    "#### while loop\n",
    "\n",
    "A while loop is a type of loop in Python that allows you to repeatedly execute a block of code as long as a certain condition is true."
   ]
  },
  {
   "cell_type": "code",
   "execution_count": 38,
   "id": "617cb6ec-01f2-46c8-8482-8fce1acfb03b",
   "metadata": {
    "execution": {
     "iopub.execute_input": "2023-03-19T21:13:59.916474Z",
     "iopub.status.busy": "2023-03-19T21:13:59.915295Z",
     "iopub.status.idle": "2023-03-19T21:13:59.932045Z",
     "shell.execute_reply": "2023-03-19T21:13:59.930626Z",
     "shell.execute_reply.started": "2023-03-19T21:13:59.916406Z"
    },
    "tags": []
   },
   "outputs": [
    {
     "name": "stdout",
     "output_type": "stream",
     "text": [
      "You cannot drive before you are 18, now you are 16!\n",
      "A year has passed!\n",
      "You cannot drive before you are 18, now you are 17!\n",
      "A year has passed!\n",
      "Now you are 18!\n"
     ]
    }
   ],
   "source": [
    "age = 16\n",
    "driving_age = 18\n",
    "\n",
    "while age < driving_age:\n",
    "    print(f'You cannot drive before you are {driving_age}, now you are {age}!')\n",
    "    age += 1\n",
    "    print('A year has passed!')\n",
    "print(f'Now you are {driving_age}!')"
   ]
  }
 ],
 "metadata": {
  "kernelspec": {
   "display_name": "general",
   "language": "python",
   "name": "general"
  },
  "language_info": {
   "codemirror_mode": {
    "name": "ipython",
    "version": 3
   },
   "file_extension": ".py",
   "mimetype": "text/x-python",
   "name": "python",
   "nbconvert_exporter": "python",
   "pygments_lexer": "ipython3",
   "version": "3.9.9"
  },
  "toc-autonumbering": false
 },
 "nbformat": 4,
 "nbformat_minor": 5
}
